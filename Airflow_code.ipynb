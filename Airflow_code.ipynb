{
 "cells": [
  {
   "cell_type": "markdown",
   "metadata": {},
   "source": [
    "*Airflow DAG's*"
   ]
  },
  {
   "cell_type": "code",
   "execution_count": 43,
   "metadata": {},
   "outputs": [],
   "source": [
    "#Step 1: Import modules\n",
    "import msvcrt\n",
    "from datetime import datetime\n",
    "from datetime import timedelta\n",
    "import airflow\n",
    "from airflow import DAG\n",
    "from airflow.operators.bash import BashOperator\n",
    "#from airflow import python\n",
    "#from airflow.operators import python\n",
    "#from airflow.operators.python_operator import PythonOperator"
   ]
  },
  {
   "cell_type": "code",
   "execution_count": 44,
   "metadata": {},
   "outputs": [],
   "source": [
    "#Step 2: Default Args\n",
    "default_args= {\n",
    "    'owner': 'airflow',\n",
    "    'start_date': airflow.utils.dates.days_ago(2),\n",
    "    'depends_on_past' : False,\n",
    "    'email' : ['airflow@example.com'],\n",
    "    'email_on_failure' : False,\n",
    "    'email_on_retry' : False,\n",
    "    'retries': 1,\n",
    "    'retry_delay':timedelta(minutes=5),\n",
    "}"
   ]
  },
  {
   "cell_type": "code",
   "execution_count": 45,
   "metadata": {},
   "outputs": [],
   "source": [
    "#Step 3: Instantiate a DAG\n",
    "with DAG(\"my_dag\", start_date=datetime(2021, 6, 5),\n",
    "    schedule_interval=\"@daily\", catchup=False) as dag:\n",
    "\n",
    "        Connection_sql = BashOperator(\n",
    "            task_id=\"Connection_sql\",\n",
    "            bash_command=Connection_sql\n",
    "        )\n",
    "        \n",
    "        Connection_mysql = BashOperator(\n",
    "            task_id=\"Connection_mysql\",\n",
    "            bash_command=Connection_mysql\n",
    "        )"
   ]
  },
  {
   "cell_type": "code",
   "execution_count": 46,
   "metadata": {},
   "outputs": [],
   "source": [
    "#Step 4: Set up tasks\n",
    "import pypyodbc # pip install pypyodbc\n",
    "import pandas as pd # pip install pandas\n",
    "\n",
    "def Connection_sql():\n",
    "    SERVER_NAME = 'DESKTOP-H2M6ONO'\n",
    "    DATABASE_NAME = 'test'\n",
    "\n",
    "    conn = pypyodbc.connect(\"\"\"\n",
    "        Driver={{SQL Server Native Client 11.0}};\n",
    "        Server={0};\n",
    "        Database={1};\n",
    "        Trusted_Connection=yes;\"\"\".format(SERVER_NAME, DATABASE_NAME)\n",
    "    )\n",
    "\n",
    "    sql_query1 = \"\"\"\n",
    "    SELECT * FROM organization_provider WITH (NoLock)\n",
    "    \"\"\"\n",
    "\n",
    "    # With Headers\n",
    "    organization_provider = pd.read_sql(sql_query1, conn)\n",
    "    \n",
    "def Connection_mysql():\n",
    "    from mysql.connector import (connection)\n",
    "    cnx = connection.MySQLConnection(user='root', password='root',\n",
    "                                 host='localhost',\n",
    "                                 database='medical_data',\n",
    "                                auth_plugin='mysql_native_password')\n",
    "\n",
    "    sql_query1 = 'Select * from encounters';\n",
    "    encounters = pd.read_sql(sql_query1, cnx)\n",
    "    cnx.close()"
   ]
  },
  {
   "cell_type": "code",
   "execution_count": 48,
   "metadata": {},
   "outputs": [
    {
     "ename": "TypeError",
     "evalue": "unsupported operand type(s) for >>: 'function' and 'function'",
     "output_type": "error",
     "traceback": [
      "\u001b[1;31m---------------------------------------------------------------------------\u001b[0m",
      "\u001b[1;31mTypeError\u001b[0m                                 Traceback (most recent call last)",
      "\u001b[1;32m<ipython-input-48-9476ed5c8f92>\u001b[0m in \u001b[0;36m<module>\u001b[1;34m\u001b[0m\n\u001b[0;32m      1\u001b[0m \u001b[1;31m#Step 5: Set up dependencies like upstream & downstream\u001b[0m\u001b[1;33m\u001b[0m\u001b[1;33m\u001b[0m\u001b[1;33m\u001b[0m\u001b[0m\n\u001b[0;32m      2\u001b[0m \u001b[1;33m\u001b[0m\u001b[0m\n\u001b[1;32m----> 3\u001b[1;33m \u001b[0mConnection_sql\u001b[0m\u001b[1;33m>>\u001b[0m\u001b[0mConnection_mysql\u001b[0m\u001b[1;33m\u001b[0m\u001b[1;33m\u001b[0m\u001b[0m\n\u001b[0m",
      "\u001b[1;31mTypeError\u001b[0m: unsupported operand type(s) for >>: 'function' and 'function'"
     ]
    }
   ],
   "source": [
    "#Step 5: Set up dependencies like upstream & downstream\n",
    "\n",
    "Connection_sql>>Connection_mysql"
   ]
  },
  {
   "cell_type": "code",
   "execution_count": 49,
   "metadata": {},
   "outputs": [
    {
     "data": {
      "text/plain": [
       "<Task(BashOperator): print_world>"
      ]
     },
     "execution_count": 49,
     "metadata": {},
     "output_type": "execute_result"
    }
   ],
   "source": [
    "import datetime as dt\n",
    "\n",
    "from airflow import DAG\n",
    "from airflow.operators.bash_operator import BashOperator\n",
    "#from airflow.operators.python_operator import PythonOperator\n",
    "\n",
    "\n",
    "def print_world():\n",
    "    print('world')\n",
    "\n",
    "\n",
    "default_args = {\n",
    "    'owner': 'me',\n",
    "    'start_date': dt.datetime(2017, 6, 1),\n",
    "    'retries': 1,\n",
    "    'retry_delay': dt.timedelta(minutes=5),\n",
    "}\n",
    "\n",
    "\n",
    "with DAG('airflow_tutorial_v01',\n",
    "         default_args=default_args,\n",
    "         schedule_interval='0 * * * *',\n",
    "         ) as dag:\n",
    "\n",
    "    print_hello = BashOperator(task_id='print_hello',\n",
    "                               bash_command='echo \"hello\"')\n",
    "    sleep = BashOperator(task_id='sleep',\n",
    "                         bash_command='sleep 5')\n",
    "    print_world = BashOperator(task_id='print_world',\n",
    "                                 bash_command=print_world)\n",
    "\n",
    "\n",
    "print_hello >> sleep >> print_world"
   ]
  }
 ],
 "metadata": {
  "hide_input": false,
  "kernelspec": {
   "display_name": "Python 3",
   "language": "python",
   "name": "python3"
  },
  "language_info": {
   "codemirror_mode": {
    "name": "ipython",
    "version": 3
   },
   "file_extension": ".py",
   "mimetype": "text/x-python",
   "name": "python",
   "nbconvert_exporter": "python",
   "pygments_lexer": "ipython3",
   "version": "3.7.7"
  }
 },
 "nbformat": 4,
 "nbformat_minor": 4
}
