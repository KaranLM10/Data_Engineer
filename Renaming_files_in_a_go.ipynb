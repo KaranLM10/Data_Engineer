{
 "cells": [
  {
   "cell_type": "code",
   "execution_count": 5,
   "metadata": {},
   "outputs": [],
   "source": [
    "import os \n",
    "  \n",
    "# Function to rename multiple files \n",
    "def main(): \n",
    "  \n",
    "    for count, filename in enumerate(os.listdir(\"C:\\\\Users\\\\91993\\\\Documents\\\\Sem3\\\\out\\\\Lukaku\\\\\")): \n",
    "        dst =\"Lukaku\" + str(count) + \".jpg\"\n",
    "        src ='C:\\\\Users\\\\91993\\\\Documents\\\\Sem3\\\\out\\\\Lukaku\\\\'+ filename \n",
    "        dst ='C:\\\\Users\\\\91993\\\\Documents\\\\Sem3\\\\out\\\\Lukaku\\\\'+ dst \n",
    "          \n",
    "        # rename() function will \n",
    "        # rename all the files \n",
    "        os.rename(src, dst) \n",
    "  \n",
    "    # Driver Code \n",
    "if __name__ == '__main__': \n",
    "      \n",
    "    # Calling main() function \n",
    "    main() "
   ]
  }
 ],
 "metadata": {
  "hide_input": false,
  "kernelspec": {
   "display_name": "Python 3",
   "language": "python",
   "name": "python3"
  },
  "language_info": {
   "codemirror_mode": {
    "name": "ipython",
    "version": 3
   },
   "file_extension": ".py",
   "mimetype": "text/x-python",
   "name": "python",
   "nbconvert_exporter": "python",
   "pygments_lexer": "ipython3",
   "version": "3.7.4"
  }
 },
 "nbformat": 4,
 "nbformat_minor": 2
}
