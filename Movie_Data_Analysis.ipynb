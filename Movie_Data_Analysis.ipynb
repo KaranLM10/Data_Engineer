{
 "cells": [
  {
   "cell_type": "markdown",
   "metadata": {},
   "source": [
    "# Movie Data Analysis #"
   ]
  },
  {
   "cell_type": "code",
   "execution_count": 1,
   "metadata": {},
   "outputs": [],
   "source": [
    "########################import libraries####################\n",
    "import pandas as pd\n",
    "import numpy as np\n",
    "import csv\n",
    "import pickle\n",
    "import glob\n",
    "from pyspark.sql import SQLContext,SparkSession\n",
    "from pyspark.conf import SparkConf\n",
    "from pyspark.context import SparkContext\n",
    "from dataframe_sql import register_temp_table, query\n",
    "import findspark\n",
    "import pyspark.sql.functions as f\n",
    "import pandas as pd\n",
    "import numpy as np\n",
    "import seaborn as sns\n",
    "import matplotlib.pyplot as plt\n",
    "sns.set(style=\"darkgrid\")\n",
    "plt.style.use(\"seaborn-pastel\")\n",
    "plt.show()\n",
    "findspark.init()"
   ]
  },
  {
   "cell_type": "markdown",
   "metadata": {},
   "source": [
    "# Question 1: Movies made each year#\n",
    "\n",
    "## Strategy to Solve the problem ## \n",
    "\n",
    "1. Using Spark Session and pushing filtered data into the temporary tables & solving the problem.\n",
    "2. Using basic python functionality to check whether we receive the correct counts.\n",
    "\n",
    "### Using Spark-SQL to solve the problem ###"
   ]
  },
  {
   "cell_type": "code",
   "execution_count": 2,
   "metadata": {},
   "outputs": [],
   "source": [
    "###############Creating Spark Session#########################\n",
    "sc = SparkSession.builder.appName(\"PySparkExample\")\\\n",
    "    .config (\"spark.sql.shuffle.partitions\", \"50\") \\\n",
    "    .config(\"spark.driver.maxResultSize\",\"5g\") \\\n",
    "    .config (\"spark.sql.execution.arrow.enabled\", \"true\")\\\n",
    "    .getOrCreate()"
   ]
  },
  {
   "cell_type": "code",
   "execution_count": 3,
   "metadata": {},
   "outputs": [],
   "source": [
    "###############Function to create temporary table#################\n",
    "def create_temp_table(data1,data2):\n",
    "    data1.repartition(10).rdd.getNumPartitions()\n",
    "    data1.createOrReplaceTempView(data2)   "
   ]
  },
  {
   "cell_type": "code",
   "execution_count": 4,
   "metadata": {},
   "outputs": [
    {
     "name": "stdout",
     "output_type": "stream",
     "text": [
      "+---------+---------+--------------------+--------------------+-------+---------+-------+--------------+--------------------+\n",
      "|   tconst|titleType|        primaryTitle|       originalTitle|isAdult|startYear|endYear|runtimeMinutes|              genres|\n",
      "+---------+---------+--------------------+--------------------+-------+---------+-------+--------------+--------------------+\n",
      "|tt0000001|    short|          Carmencita|          Carmencita|      0|     1894|     \\N|             1|   Documentary,Short|\n",
      "|tt0000002|    short|Le clown et ses c...|Le clown et ses c...|      0|     1892|     \\N|             5|     Animation,Short|\n",
      "|tt0000003|    short|      Pauvre Pierrot|      Pauvre Pierrot|      0|     1892|     \\N|             4|Animation,Comedy,...|\n",
      "|tt0000004|    short|         Un bon bock|         Un bon bock|      0|     1892|     \\N|            12|     Animation,Short|\n",
      "|tt0000005|    short|    Blacksmith Scene|    Blacksmith Scene|      0|     1893|     \\N|             1|        Comedy,Short|\n",
      "|tt0000006|    short|   Chinese Opium Den|   Chinese Opium Den|      0|     1894|     \\N|             1|               Short|\n",
      "|tt0000007|    short|Corbett and Court...|Corbett and Court...|      0|     1894|     \\N|             1|         Short,Sport|\n",
      "|tt0000008|    short|Edison Kinetoscop...|Edison Kinetoscop...|      0|     1894|     \\N|             1|   Documentary,Short|\n",
      "|tt0000009|    short|          Miss Jerry|          Miss Jerry|      0|     1894|     \\N|            40|       Romance,Short|\n",
      "|tt0000010|    short| Leaving the Factory|La sortie de l'us...|      0|     1895|     \\N|             1|   Documentary,Short|\n",
      "|tt0000011|    short|Akrobatisches Pot...|Akrobatisches Pot...|      0|     1895|     \\N|             1|   Documentary,Short|\n",
      "|tt0000012|    short|The Arrival of a ...|L'arrivée d'un tr...|      0|     1896|     \\N|             1|   Documentary,Short|\n",
      "|tt0000013|    short|The Photographica...|Neuville-sur-Saôn...|      0|     1895|     \\N|             1|   Documentary,Short|\n",
      "|tt0000014|    short| The Waterer Watered|   L'arroseur arrosé|      0|     1895|     \\N|             1|        Comedy,Short|\n",
      "|tt0000015|    short| Autour d'une cabine| Autour d'une cabine|      0|     1894|     \\N|             2|     Animation,Short|\n",
      "|tt0000016|    short|Barque sortant du...|Barque sortant du...|      0|     1895|     \\N|             1|   Documentary,Short|\n",
      "|tt0000017|    short|Italienischer Bau...|Italienischer Bau...|      0|     1895|     \\N|             1|   Documentary,Short|\n",
      "|tt0000018|    short|Das boxende Känguruh|Das boxende Känguruh|      0|     1895|     \\N|             1|               Short|\n",
      "|tt0000019|    short|    The Clown Barber|    The Clown Barber|      0|     1898|     \\N|            \\N|        Comedy,Short|\n",
      "|tt0000020|    short|      The Derby 1895|      The Derby 1895|      0|     1895|     \\N|             1|Documentary,Short...|\n",
      "+---------+---------+--------------------+--------------------+-------+---------+-------+--------------+--------------------+\n",
      "only showing top 20 rows\n",
      "\n"
     ]
    }
   ],
   "source": [
    "###################Read data using spark session#######################\n",
    "filepath_title_data='Documents/Movies/title.basics.tsv' #Change filepath for title_data\n",
    "filepath_basic_data='Documents/Movies/name.basics.tsv' #Change filepath for basic_data\n",
    "filepath_crew_data='Documents/Movies/title.crew.tsv' #Change filepath for crew_data\n",
    "filepath_out_data='Documents/Movies/out'\n",
    "\n",
    "Title_data = sc.read.csv(filepath_title_data+\"/data.tsv\",sep=\"\\t\",header= True)\n",
    "Title_data.show()"
   ]
  },
  {
   "cell_type": "code",
   "execution_count": 5,
   "metadata": {},
   "outputs": [],
   "source": [
    "#############Create temp table for Title_data##################\n",
    "create_temp_table(Title_data,\"Title_data\")"
   ]
  },
  {
   "cell_type": "code",
   "execution_count": 6,
   "metadata": {},
   "outputs": [
    {
     "name": "stdout",
     "output_type": "stream",
     "text": [
      "+---------+-----------+\n",
      "|startYear|MOVIE_COUNT|\n",
      "+---------+-----------+\n",
      "|       \\N|      72681|\n",
      "|     2017|      17943|\n",
      "|     2018|      17771|\n",
      "|     2016|      17582|\n",
      "|     2019|      17121|\n",
      "|     2015|      16403|\n",
      "|     2014|      15849|\n",
      "|     2013|      14771|\n",
      "|     2020|      14569|\n",
      "|     2012|      14087|\n",
      "|     2011|      13144|\n",
      "|     2010|      12207|\n",
      "|     2009|      11443|\n",
      "|     2021|      10813|\n",
      "|     2008|       9983|\n",
      "|     2007|       8533|\n",
      "|     2006|       7820|\n",
      "|     2005|       7363|\n",
      "|     2004|       6392|\n",
      "|     2003|       5870|\n",
      "+---------+-----------+\n",
      "only showing top 20 rows\n",
      "\n"
     ]
    }
   ],
   "source": [
    "###################Movies made each year#####################\n",
    "Title_by_year = sc.sql(\"SELECT startYear,count(startYear) as MOVIE_COUNT from Title_data where startYear IS NOT NULL and titleType like '%movie%' and titleType IS NOT NULL and primaryTitle IS NOT NULL and originalTitle IS NOT NULL GROUP BY startYear ORDER BY count(startYear) desc\")\n",
    "Title_by_year.show()"
   ]
  },
  {
   "cell_type": "code",
   "execution_count": 7,
   "metadata": {},
   "outputs": [
    {
     "data": {
      "text/plain": [
       "17943"
      ]
     },
     "execution_count": 7,
     "metadata": {},
     "output_type": "execute_result"
    }
   ],
   "source": [
    "###########Test case 1: To Verify movie data count for 2017#################\n",
    "Title_data_movie = sc.sql(\"SELECT * from Title_data where startYear IS NOT NULL and titleType like '%movie%' and startYear='2017'\")\n",
    "\n",
    "Title_data_movie.count()"
   ]
  },
  {
   "cell_type": "code",
   "execution_count": 8,
   "metadata": {},
   "outputs": [
    {
     "name": "stdout",
     "output_type": "stream",
     "text": [
      "+---------+-----------+\n",
      "|startYear|MOVIE_COUNT|\n",
      "+---------+-----------+\n",
      "|     2017|      17943|\n",
      "|     2018|      17771|\n",
      "|     2016|      17582|\n",
      "|     2019|      17121|\n",
      "|     2015|      16403|\n",
      "|     2014|      15849|\n",
      "|     2013|      14771|\n",
      "|     2020|      14569|\n",
      "|     2012|      14087|\n",
      "|     2011|      13144|\n",
      "|     2010|      12207|\n",
      "|     2009|      11443|\n",
      "|     2021|      10813|\n",
      "|     2008|       9983|\n",
      "|     2007|       8533|\n",
      "|     2006|       7820|\n",
      "|     2005|       7363|\n",
      "|     2004|       6392|\n",
      "|     2003|       5870|\n",
      "|     2002|       5677|\n",
      "+---------+-----------+\n",
      "only showing top 20 rows\n",
      "\n"
     ]
    }
   ],
   "source": [
    "#############Create temp table for Title_data##################\n",
    "create_temp_table(Title_by_year,\"Title_by_year\")\n",
    "\n",
    "##################Distribution over past 100 years###################\n",
    "Title_by_year_filtered = sc.sql(\"SELECT * from Title_by_year where startYear between '1922' and '2021'\")\n",
    "Title_by_year_filtered.show()"
   ]
  },
  {
   "cell_type": "code",
   "execution_count": 9,
   "metadata": {},
   "outputs": [
    {
     "data": {
      "text/plain": [
       "100"
      ]
     },
     "execution_count": 9,
     "metadata": {},
     "output_type": "execute_result"
    }
   ],
   "source": [
    "#################Test case 2: Check for 100 years###########\n",
    "Title_by_year_filtered.count()"
   ]
  },
  {
   "cell_type": "markdown",
   "metadata": {},
   "source": [
    "## Using python functionalities to verify data counts ##"
   ]
  },
  {
   "cell_type": "code",
   "execution_count": 10,
   "metadata": {},
   "outputs": [
    {
     "data": {
      "text/plain": [
       "<matplotlib.axes._subplots.AxesSubplot at 0x2f08fc4f848>"
      ]
     },
     "execution_count": 10,
     "metadata": {},
     "output_type": "execute_result"
    },
    {
     "data": {
      "image/png": "[encoded data removed]",
      "text/plain": [
       "<Figure size 432x432 with 1 Axes>"
      ]
     },
     "metadata": {},
     "output_type": "display_data"
    }
   ],
   "source": [
    "###############Reading data and excluding escape & NA values##################\n",
    "df_title_=pd.read_csv(filepath_title_data+\"/data.tsv\",sep=\"\\t\",low_memory=False, na_values=[\"\\\\N\",\"nan\"])\n",
    "\n",
    "###############Value counts & percentage of StartYear distribution############\n",
    "df_title_.startYear.value_counts().plot.pie(autopct=\"%.0f%%\",figsize=(6,6),pctdistance=0.8,\n",
    "                                                 wedgeprops=dict(width=0.4))\n"
   ]
  },
  {
   "cell_type": "code",
   "execution_count": 12,
   "metadata": {},
   "outputs": [
    {
     "data": {
      "text/plain": [
       "2018.0    396089\n",
       "2017.0    393908\n",
       "2019.0    376047\n",
       "2016.0    373422\n",
       "2015.0    354834\n",
       "           ...  \n",
       "1877.0         1\n",
       "1885.0         1\n",
       "1874.0         1\n",
       "1881.0         1\n",
       "1883.0         1\n",
       "Name: startYear, Length: 148, dtype: int64"
      ]
     },
     "execution_count": 12,
     "metadata": {},
     "output_type": "execute_result"
    }
   ],
   "source": [
    "################Value counts are without movies filtered#############\n",
    "df_title_.startYear.value_counts()"
   ]
  },
  {
   "cell_type": "code",
   "execution_count": 12,
   "metadata": {},
   "outputs": [],
   "source": [
    "##############Filter dataframe by movie data####################\n",
    "M_data=(df_title_['titleType']=='movie')"
   ]
  },
  {
   "cell_type": "code",
   "execution_count": 13,
   "metadata": {},
   "outputs": [
    {
     "data": {
      "text/plain": [
       "2017.0    17943\n",
       "2018.0    17771\n",
       "2016.0    17582\n",
       "2019.0    17121\n",
       "2015.0    16403\n",
       "          ...  \n",
       "2028.0        3\n",
       "2026.0        3\n",
       "1904.0        2\n",
       "1897.0        1\n",
       "1896.0        1\n",
       "Name: startYear, Length: 133, dtype: int64"
      ]
     },
     "execution_count": 13,
     "metadata": {},
     "output_type": "execute_result"
    }
   ],
   "source": [
    "###################Test Case 3: Verifying counts##################\n",
    "Movie_data_1 =df_title_.loc[df_title_['titleType']=='movie']\n",
    "Movie_data_1.startYear.value_counts()"
   ]
  },
  {
   "cell_type": "code",
   "execution_count": 14,
   "metadata": {},
   "outputs": [
    {
     "data": {
      "text/plain": [
       "startYear\n",
       "2017.0    17943\n",
       "2018.0    17771\n",
       "2016.0    17582\n",
       "2019.0    17121\n",
       "2015.0    16403\n",
       "          ...  \n",
       "2028.0        3\n",
       "1903.0        3\n",
       "1904.0        2\n",
       "1897.0        1\n",
       "1896.0        1\n",
       "Name: originalTitle, Length: 133, dtype: int64"
      ]
     },
     "execution_count": 14,
     "metadata": {},
     "output_type": "execute_result"
    }
   ],
   "source": [
    "gk_result=Movie_data_1.groupby('startYear')\n",
    "gk_result['originalTitle'].count().sort_values(ascending=False)"
   ]
  },
  {
   "cell_type": "markdown",
   "metadata": {},
   "source": [
    "# Question 2. Actor-Director Collaboration #\n",
    "## Basic data Analysis: ##\n",
    "\n",
    "### This data comprises of both the Actor & Director in it with unique id as nconst. This needs to be filtered in order to check correct relationship. Also data is not in the normalised form so from a data warehousing concept to explore more granular detail, the KnownTitles column needs a bit of cleaning to achieve this granularity.\n",
    "\n",
    "## Approach 1##\n",
    "\n",
    "#### Step 1: To create Basic_filtered_actor table with nconst column named as Actor_ID from basic_data, primaryProfession column can be filtered using spark-sql queries for actor.\n",
    "#### Step 2: To create Basic_filtered_director table with nconst column named as Director_ID  from basic_data, primaryProfession column can be filtered using spark-sql queries for director.\n",
    "#### Step 3: Filter & Correct KnownTitles column for actor & director to achieve more granularity.\n",
    "#### Step 4: Filter & Correct  directors column to achieve granularity.\n",
    "#### Step 5: Join Basic_filtered_director to Crew data based Title_id & Director_ID & create a new dataframe \n",
    "#### Step 6: Join the previously join table with Basic_filtered_actor table based on Title_id.\n",
    "#### Step 7: Concate Actor_id & Director_ID and group by them to see the most collaboration.\n",
    "\n"
   ]
  },
  {
   "cell_type": "code",
   "execution_count": 176,
   "metadata": {},
   "outputs": [],
   "source": [
    "##########Read basic data############\n",
    "Basic_data = sc.read.csv(filepath_basic_data+\"/data.tsv\",sep=\"\\t\",header= True)\n",
    "\n",
    "##########Read crew data############\n",
    "Crew_data = sc.read.csv(filepath_crew_data+\"/data.tsv\",sep=\"\\t\",header= True)"
   ]
  },
  {
   "cell_type": "code",
   "execution_count": 177,
   "metadata": {},
   "outputs": [
    {
     "name": "stdout",
     "output_type": "stream",
     "text": [
      "+---------+-------------------+---------+---------+--------------------+--------------------+\n",
      "|   nconst|        primaryName|birthYear|deathYear|   primaryProfession|      knownForTitles|\n",
      "+---------+-------------------+---------+---------+--------------------+--------------------+\n",
      "|nm0000001|       Fred Astaire|     1899|     1987|soundtrack,actor,...|tt0031983,tt00504...|\n",
      "|nm0000002|      Lauren Bacall|     1924|     2014|  actress,soundtrack|tt0117057,tt00383...|\n",
      "|nm0000003|    Brigitte Bardot|     1934|       \\N|actress,soundtrac...|tt0057345,tt00544...|\n",
      "|nm0000004|       John Belushi|     1949|     1982|actor,soundtrack,...|tt0072562,tt00779...|\n",
      "|nm0000005|     Ingmar Bergman|     1918|     2007|writer,director,a...|tt0050986,tt00509...|\n",
      "|nm0000006|     Ingrid Bergman|     1915|     1982|actress,soundtrac...|tt0036855,tt00381...|\n",
      "|nm0000007|    Humphrey Bogart|     1899|     1957|actor,soundtrack,...|tt0033870,tt00345...|\n",
      "|nm0000008|      Marlon Brando|     1924|     2004|actor,soundtrack,...|tt0070849,tt00686...|\n",
      "|nm0000009|     Richard Burton|     1925|     1984|actor,soundtrack,...|tt0061184,tt00878...|\n",
      "|nm0000010|       James Cagney|     1899|     1986|actor,soundtrack,...|tt0029870,tt00318...|\n",
      "|nm0000011|        Gary Cooper|     1901|     1961|actor,soundtrack,...|tt0035211,tt00279...|\n",
      "|nm0000012|        Bette Davis|     1908|     1989|actress,soundtrac...|tt0031210,tt00351...|\n",
      "|nm0000013|          Doris Day|     1922|     2019|soundtrack,actres...|tt0048317,tt00494...|\n",
      "|nm0000014|Olivia de Havilland|     1916|     2020|  actress,soundtrack|tt0029843,tt00408...|\n",
      "|nm0000015|         James Dean|     1931|     1955| actor,miscellaneous|tt0048028,tt00485...|\n",
      "|nm0000016|    Georges Delerue|     1925|     1992|composer,soundtra...|tt0069946,tt00963...|\n",
      "|nm0000017|   Marlene Dietrich|     1901|     1992|soundtrack,actres...|tt0021156,tt00512...|\n",
      "|nm0000018|       Kirk Douglas|     1916|     2020|actor,producer,so...|tt0054331,tt00494...|\n",
      "|nm0000019|   Federico Fellini|     1920|     1993|writer,director,a...|tt0071129,tt00507...|\n",
      "|nm0000020|        Henry Fonda|     1905|     1982|actor,producer,so...|tt0051207,tt00500...|\n",
      "+---------+-------------------+---------+---------+--------------------+--------------------+\n",
      "only showing top 20 rows\n",
      "\n"
     ]
    }
   ],
   "source": [
    "Basic_data.show()"
   ]
  },
  {
   "cell_type": "code",
   "execution_count": 16,
   "metadata": {},
   "outputs": [
    {
     "name": "stdout",
     "output_type": "stream",
     "text": [
      "+---------+-------------------+---------+\n",
      "|   tconst|          directors|  writers|\n",
      "+---------+-------------------+---------+\n",
      "|tt0000001|          nm0005690|       \\N|\n",
      "|tt0000002|          nm0721526|       \\N|\n",
      "|tt0000003|          nm0721526|       \\N|\n",
      "|tt0000004|          nm0721526|       \\N|\n",
      "|tt0000005|          nm0005690|       \\N|\n",
      "|tt0000006|          nm0005690|       \\N|\n",
      "|tt0000007|nm0374658,nm0005690|       \\N|\n",
      "|tt0000008|          nm0005690|       \\N|\n",
      "|tt0000009|          nm0085156|nm0085156|\n",
      "|tt0000010|          nm0525910|       \\N|\n",
      "|tt0000011|          nm0804434|       \\N|\n",
      "|tt0000012|nm0525910,nm0525908|       \\N|\n",
      "|tt0000013|          nm0525910|       \\N|\n",
      "|tt0000014|          nm0525910|       \\N|\n",
      "|tt0000015|          nm0721526|       \\N|\n",
      "|tt0000016|          nm0525910|       \\N|\n",
      "|tt0000017|nm0804434,nm1587194|       \\N|\n",
      "|tt0000018|          nm0804434|       \\N|\n",
      "|tt0000019|          nm0932055|       \\N|\n",
      "|tt0000020|          nm0010291|       \\N|\n",
      "+---------+-------------------+---------+\n",
      "only showing top 20 rows\n",
      "\n"
     ]
    }
   ],
   "source": [
    "Crew_data.show()"
   ]
  },
  {
   "cell_type": "code",
   "execution_count": 178,
   "metadata": {},
   "outputs": [],
   "source": [
    "###########Creating temporary table###########\n",
    "create_temp_table(Basic_data,\"Basic_data\")\n",
    "create_temp_table(Crew_data,\"Crew_data\")"
   ]
  },
  {
   "cell_type": "code",
   "execution_count": 179,
   "metadata": {},
   "outputs": [
    {
     "name": "stdout",
     "output_type": "stream",
     "text": [
      "+---------+--------------------+--------------------+----------+\n",
      "| Actor_ID|                Name|            Title_ID|Profession|\n",
      "+---------+--------------------+--------------------+----------+\n",
      "|nm0000282|      Scott Bairstow|tt0119925,tt01205...|     actor|\n",
      "|nm0000314|     Charles Bronson|tt0054047,tt00714...|     actor|\n",
      "|nm0000374|         Brad Dourif|tt0073486,tt01672...|     actor|\n",
      "|nm0000606|           Jean Reno|tt0110413,tt02813...|     actor|\n",
      "|nm0000669|       Fred Thompson|tt1922777,tt00936...|     actor|\n",
      "|nm0000687|          J.T. Walsh|tt0093105,tt01187...|     actor|\n",
      "|nm0000699|     Michael Wincott|tt0115632,tt04866...|     actor|\n",
      "|nm0000764|     André the Giant|tt0093779,tt02508...|     actor|\n",
      "|nm0000842|       Martin Balsam|tt0054215,tt00500...|     actor|\n",
      "|nm0000846|          Ian Bannen|tt0166396,tt01125...|     actor|\n",
      "|nm0000851|          Lex Barker|tt0036493,tt00587...|     actor|\n",
      "|nm0000855|    Raymond J. Barry|tt0106856,tt08410...|     actor|\n",
      "|nm0000908|       David Bennent|tt0089469,tt03034...|     actor|\n",
      "|nm0001085|       Kieran Culkin|tt0124315,tt04460...|     actor|\n",
      "|nm0001089|        Henry Czerny|tt0383216,tt01170...|     actor|\n",
      "|nm0001109|       Jaye Davidson|tt0111282,tt14938...|     actor|\n",
      "|nm0001111|       Jeremy Davies|tt0307479,tt02748...|     actor|\n",
      "|nm0001113|          Brad Davis|tt0084565,tt00849...|     actor|\n",
      "|nm0001172|Christopher Eccle...|tt1981115,tt04369...|     actor|\n",
      "|nm0001186|     Denholm Elliott|tt0097576,tt00864...|     actor|\n",
      "+---------+--------------------+--------------------+----------+\n",
      "only showing top 20 rows\n",
      "\n"
     ]
    }
   ],
   "source": [
    "######################Filtering basic_data table for just actor records#######################\n",
    "Basic_data_actor = sc.sql(\"select nconst as Actor_ID,primaryName as Name,knownForTitles as Title_ID, primaryProfession as Profession from Basic_data where primaryName IS NOT NULL and primaryProfession IS NOT NULL and (primaryProfession like 'actor' and primaryProfession not like 'director') and knownForTitles IS NOT NULL\")\n",
    "Basic_data_actor.show()"
   ]
  },
  {
   "cell_type": "code",
   "execution_count": 180,
   "metadata": {},
   "outputs": [
    {
     "name": "stdout",
     "output_type": "stream",
     "text": [
      "+-----------+--------------------+--------------------+----------+\n",
      "|Director_ID|                Name|            Title_ID|Profession|\n",
      "+-----------+--------------------+--------------------+----------+\n",
      "|  nm0002920|         Mike Hansel|           tt0150492|  director|\n",
      "|  nm0003235|  Julian Keith Loren|           tt0221400|  director|\n",
      "|  nm0003594|      Roger Cardinal|           tt0178393|  director|\n",
      "|  nm0005480|    Ryan Rene Taylor|tt0132479,tt01323...|  director|\n",
      "|  nm0007283|              Nian A| tt2473416,tt0177624|  director|\n",
      "|  nm0007328|            Mang Aag|           tt0122035|  director|\n",
      "|  nm0007407|         Kevin Aames|           tt0142361|  director|\n",
      "|  nm0008057|   Simon Dare Abbott|           tt0251472|  director|\n",
      "|  nm0008152|   Fatin Abdulwahhab|tt0376915,tt03425...|  director|\n",
      "|  nm0008157|    Ali Abdel-Khalek|tt9102534,tt00975...|  director|\n",
      "|  nm0008244|   Vadim Abdrashitov|tt0372400,tt00961...|  director|\n",
      "|  nm0008352|            Kino Abe|tt0181918,tt02058...|  director|\n",
      "|  nm0008550| Rafael Jorge Abella|           tt0277979|  director|\n",
      "|  nm0008954|     Maurice Abraham|tt0080200,tt08100...|  director|\n",
      "|  nm0009103|        Luigi Abramo| tt0206687,tt0203844|  director|\n",
      "|  nm0009331|Carlos Alberto Abreu|           tt0190316|  director|\n",
      "|  nm0009346|  José Eduardo Abreu|tt0233109,tt15211...|  director|\n",
      "|  nm0009359|       Rogerio Abreu|           tt0121134|  director|\n",
      "|  nm0009420|        Daniel Absil| tt0176997,tt1068866|  director|\n",
      "|  nm0009960|    C. Fred Ackerman|tt0230090,tt02304...|  director|\n",
      "+-----------+--------------------+--------------------+----------+\n",
      "only showing top 20 rows\n",
      "\n"
     ]
    }
   ],
   "source": [
    "######################Filtering basic_data table for just director records#######################\n",
    "Basic_data_director = sc.sql(\"select nconst as Director_ID,primaryName as Name,knownForTitles as Title_ID,primaryProfession as Profession  from Basic_data where primaryName IS NOT NULL and primaryProfession IS NOT NULL and (primaryProfession like 'director' and primaryProfession not like 'actor') and knownForTitles IS NOT NULL\")\n",
    "Basic_data_director.show()"
   ]
  },
  {
   "cell_type": "code",
   "execution_count": 181,
   "metadata": {},
   "outputs": [],
   "source": [
    "###########Creating temporary table###########\n",
    "create_temp_table(Basic_data_director,\"Basic_data_director\")\n",
    "create_temp_table(Basic_data_actor,\"Basic_data_actor\")"
   ]
  },
  {
   "cell_type": "code",
   "execution_count": 185,
   "metadata": {},
   "outputs": [],
   "source": [
    "######################Push basic_data director to csv###################\n",
    "Basic_data_director.coalesce(1).write.format('csv').option('header',True).mode('append').option('sep','|').save(filepath_out_data+'/Basic_data_director.csv')"
   ]
  },
  {
   "cell_type": "code",
   "execution_count": 183,
   "metadata": {},
   "outputs": [],
   "source": [
    "######################Push basic_data actor to csv###################\n",
    "Basic_data_actor.coalesce(1).write.format('csv').option('header',True).mode('append').option('sep','|').save(filepath_out_data+'/Basic_data_actor.csv')"
   ]
  },
  {
   "cell_type": "code",
   "execution_count": 66,
   "metadata": {},
   "outputs": [],
   "source": [
    "Crew_data_filtered.coalesce(1).write.format('csv').option('header',True).mode('append').option('sep','|').save(filepath_out_data+'/Crew_data_filtered.csv')"
   ]
  },
  {
   "cell_type": "code",
   "execution_count": 30,
   "metadata": {},
   "outputs": [
    {
     "data": {
      "text/html": [
       "<div>\n",
       "<style scoped>\n",
       "    .dataframe tbody tr th:only-of-type {\n",
       "        vertical-align: middle;\n",
       "    }\n",
       "\n",
       "    .dataframe tbody tr th {\n",
       "        vertical-align: top;\n",
       "    }\n",
       "\n",
       "    .dataframe thead th {\n",
       "        text-align: right;\n",
       "    }\n",
       "</style>\n",
       "<table border=\"1\" class=\"dataframe\">\n",
       "  <thead>\n",
       "    <tr style=\"text-align: right;\">\n",
       "      <th></th>\n",
       "      <th>Director_ID</th>\n",
       "      <th>Title_ID</th>\n",
       "    </tr>\n",
       "  </thead>\n",
       "  <tbody>\n",
       "    <tr>\n",
       "      <th>0</th>\n",
       "      <td>nm0002920</td>\n",
       "      <td>tt0150492</td>\n",
       "    </tr>\n",
       "    <tr>\n",
       "      <th>1</th>\n",
       "      <td>nm0003235</td>\n",
       "      <td>tt0221400</td>\n",
       "    </tr>\n",
       "    <tr>\n",
       "      <th>2</th>\n",
       "      <td>nm0003594</td>\n",
       "      <td>tt0178393</td>\n",
       "    </tr>\n",
       "    <tr>\n",
       "      <th>3</th>\n",
       "      <td>nm0005480</td>\n",
       "      <td>tt0132479</td>\n",
       "    </tr>\n",
       "    <tr>\n",
       "      <th>4</th>\n",
       "      <td>nm0005480</td>\n",
       "      <td>tt0132344</td>\n",
       "    </tr>\n",
       "    <tr>\n",
       "      <th>...</th>\n",
       "      <td>...</td>\n",
       "      <td>...</td>\n",
       "    </tr>\n",
       "    <tr>\n",
       "      <th>108870</th>\n",
       "      <td>nm9993407</td>\n",
       "      <td>tt8743206</td>\n",
       "    </tr>\n",
       "    <tr>\n",
       "      <th>108871</th>\n",
       "      <td>nm9993420</td>\n",
       "      <td>tt8743232</td>\n",
       "    </tr>\n",
       "    <tr>\n",
       "      <th>108872</th>\n",
       "      <td>nm9993446</td>\n",
       "      <td>\\N</td>\n",
       "    </tr>\n",
       "    <tr>\n",
       "      <th>108873</th>\n",
       "      <td>nm9993645</td>\n",
       "      <td>\\N</td>\n",
       "    </tr>\n",
       "    <tr>\n",
       "      <th>108874</th>\n",
       "      <td>nm9993679</td>\n",
       "      <td>tt8744074</td>\n",
       "    </tr>\n",
       "  </tbody>\n",
       "</table>\n",
       "<p>108875 rows × 2 columns</p>\n",
       "</div>"
      ],
      "text/plain": [
       "       Director_ID   Title_ID\n",
       "0        nm0002920  tt0150492\n",
       "1        nm0003235  tt0221400\n",
       "2        nm0003594  tt0178393\n",
       "3        nm0005480  tt0132479\n",
       "4        nm0005480  tt0132344\n",
       "...            ...        ...\n",
       "108870   nm9993407  tt8743206\n",
       "108871   nm9993420  tt8743232\n",
       "108872   nm9993446         \\N\n",
       "108873   nm9993645         \\N\n",
       "108874   nm9993679  tt8744074\n",
       "\n",
       "[108875 rows x 2 columns]"
      ]
     },
     "execution_count": 30,
     "metadata": {},
     "output_type": "execute_result"
    }
   ],
   "source": [
    "######################Convert multiple values for Title_ID into granular details###################\n",
    "Basic_data_director_=pd.read_csv(filepath_out_data+\"/Basic_data_director.csv/part-00000-b0d70dac-99d6-4048-bea1-831edbe8ac1d-c000.csv\",sep=\"|\")\n",
    "Basic_data_director_t = pd.DataFrame(Basic_data_director_.Title_ID.str.split(',').tolist(), index=Basic_data_director_.Director_ID).stack()\n",
    "Basic_data_director_c = Basic_data_director_t.reset_index([0, 'Director_ID'])\n",
    "Basic_data_director_c.columns =['Director_ID', 'Title_ID']\n",
    "Basic_data_director_c"
   ]
  },
  {
   "cell_type": "code",
   "execution_count": 35,
   "metadata": {},
   "outputs": [
    {
     "data": {
      "text/html": [
       "<div>\n",
       "<style scoped>\n",
       "    .dataframe tbody tr th:only-of-type {\n",
       "        vertical-align: middle;\n",
       "    }\n",
       "\n",
       "    .dataframe tbody tr th {\n",
       "        vertical-align: top;\n",
       "    }\n",
       "\n",
       "    .dataframe thead th {\n",
       "        text-align: right;\n",
       "    }\n",
       "</style>\n",
       "<table border=\"1\" class=\"dataframe\">\n",
       "  <thead>\n",
       "    <tr style=\"text-align: right;\">\n",
       "      <th></th>\n",
       "      <th>Actor_ID</th>\n",
       "      <th>Title_ID</th>\n",
       "    </tr>\n",
       "  </thead>\n",
       "  <tbody>\n",
       "    <tr>\n",
       "      <th>0</th>\n",
       "      <td>nm0000282</td>\n",
       "      <td>tt0119925</td>\n",
       "    </tr>\n",
       "    <tr>\n",
       "      <th>1</th>\n",
       "      <td>nm0000282</td>\n",
       "      <td>tt0120512</td>\n",
       "    </tr>\n",
       "    <tr>\n",
       "      <th>2</th>\n",
       "      <td>nm0000282</td>\n",
       "      <td>tt0182587</td>\n",
       "    </tr>\n",
       "    <tr>\n",
       "      <th>3</th>\n",
       "      <td>nm0000282</td>\n",
       "      <td>tt0283084</td>\n",
       "    </tr>\n",
       "    <tr>\n",
       "      <th>4</th>\n",
       "      <td>nm0000314</td>\n",
       "      <td>tt0054047</td>\n",
       "    </tr>\n",
       "    <tr>\n",
       "      <th>...</th>\n",
       "      <td>...</td>\n",
       "      <td>...</td>\n",
       "    </tr>\n",
       "    <tr>\n",
       "      <th>3082308</th>\n",
       "      <td>nm9993701</td>\n",
       "      <td>tt8736744</td>\n",
       "    </tr>\n",
       "    <tr>\n",
       "      <th>3082309</th>\n",
       "      <td>nm9993703</td>\n",
       "      <td>tt11212278</td>\n",
       "    </tr>\n",
       "    <tr>\n",
       "      <th>3082310</th>\n",
       "      <td>nm9993703</td>\n",
       "      <td>tt6914160</td>\n",
       "    </tr>\n",
       "    <tr>\n",
       "      <th>3082311</th>\n",
       "      <td>nm9993703</td>\n",
       "      <td>tt10627062</td>\n",
       "    </tr>\n",
       "    <tr>\n",
       "      <th>3082312</th>\n",
       "      <td>nm9993703</td>\n",
       "      <td>tt6225166</td>\n",
       "    </tr>\n",
       "  </tbody>\n",
       "</table>\n",
       "<p>3082313 rows × 2 columns</p>\n",
       "</div>"
      ],
      "text/plain": [
       "          Actor_ID    Title_ID\n",
       "0        nm0000282   tt0119925\n",
       "1        nm0000282   tt0120512\n",
       "2        nm0000282   tt0182587\n",
       "3        nm0000282   tt0283084\n",
       "4        nm0000314   tt0054047\n",
       "...            ...         ...\n",
       "3082308  nm9993701   tt8736744\n",
       "3082309  nm9993703  tt11212278\n",
       "3082310  nm9993703   tt6914160\n",
       "3082311  nm9993703  tt10627062\n",
       "3082312  nm9993703   tt6225166\n",
       "\n",
       "[3082313 rows x 2 columns]"
      ]
     },
     "execution_count": 35,
     "metadata": {},
     "output_type": "execute_result"
    }
   ],
   "source": [
    "######################Convert multiple values for Title_ID into granular details###################\n",
    "Basic_data_actor_=pd.read_csv(filepath_out_data+\"/Basic_data_actor.csv/part-00000-97d03024-5fe6-4ad0-a416-e65dc52feb61-c000.csv\",sep=\"|\")\n",
    "Basic_data_actor_t = pd.DataFrame(Basic_data_actor_.Title_ID.str.split(',').tolist(), index=Basic_data_actor_.Actor_ID).stack()\n",
    "Basic_data_actor_c = Basic_data_actor_t.reset_index([0, 'Actor_ID'])\n",
    "Basic_data_actor_c.columns =['Actor_ID', 'Title_ID']\n",
    "Basic_data_actor_c"
   ]
  },
  {
   "cell_type": "code",
   "execution_count": 187,
   "metadata": {},
   "outputs": [],
   "source": [
    "###################Write to respective csv files#################\n",
    "Basic_data_director_c.to_csv(filepath_out_data+'/director_final.csv', index=None, sep=',', mode='a')\n",
    "Basic_data_actor_c.to_csv(filepath_out_data+'/actor_final.csv', index=None, sep=',', mode='a')"
   ]
  },
  {
   "cell_type": "code",
   "execution_count": 188,
   "metadata": {},
   "outputs": [],
   "source": [
    "#########################Read transformed data into spark dataframe###################\n",
    "Director_data = sc.read.csv(filepath_out_data+'/director_final.csv',sep=\",\",header= True)\n",
    "Actor_data = sc.read.csv(filepath_out_data+'/director_final.csv',sep=\",\",header= True)"
   ]
  },
  {
   "cell_type": "code",
   "execution_count": 36,
   "metadata": {},
   "outputs": [],
   "source": [
    "####################Create temporary table############\n",
    "create_temp_table(Director_data,\"Director_data\")\n",
    "create_temp_table(Actor_data,\"Actor_data\")"
   ]
  },
  {
   "cell_type": "code",
   "execution_count": 38,
   "metadata": {},
   "outputs": [
    {
     "data": {
      "text/plain": [
       "108875"
      ]
     },
     "execution_count": 38,
     "metadata": {},
     "output_type": "execute_result"
    }
   ],
   "source": [
    "#####################Join the transformed data with all the other columns from the basic filtered director data#########\n",
    "Director_data_final = sc.sql(\"select d.Director_ID, a.Title_ID, d.Name, d.Profession from Basic_data_director d right join Director_data a on d.Director_ID=a.Director_ID where a.Title_ID IS NOT NULL and a.Director_ID IS NOT NULL\")\n",
    "Director_data_final.count()"
   ]
  },
  {
   "cell_type": "code",
   "execution_count": 41,
   "metadata": {},
   "outputs": [],
   "source": [
    "create_temp_table(Director_data_final,\"Director_data_final\")"
   ]
  },
  {
   "cell_type": "code",
   "execution_count": 42,
   "metadata": {},
   "outputs": [
    {
     "data": {
      "text/plain": [
       "0"
      ]
     },
     "execution_count": 42,
     "metadata": {},
     "output_type": "execute_result"
    }
   ],
   "source": [
    "#######################Test Case 1: Check Null values Director Transformed table########################\n",
    "Check_null_in_dir = sc.sql(\"select * from Director_data_final where Director_ID IS NULL OR Title_ID IS NULL OR Name IS NULL or Profession IS NULL\")\n",
    "\n",
    "Check_null_in_dir.count()"
   ]
  },
  {
   "cell_type": "code",
   "execution_count": 43,
   "metadata": {},
   "outputs": [
    {
     "name": "stdout",
     "output_type": "stream",
     "text": [
      "+-----------+----------+------------------+----------+\n",
      "|Director_ID|  Title_ID|              Name|Profession|\n",
      "+-----------+----------+------------------+----------+\n",
      "|  nm0027190| tt0070718|  Michael Anderson|  director|\n",
      "|  nm0031053| tt0158345|     Franco Antico|  director|\n",
      "|  nm0046218| tt0251981|    Salah Badrakan|  director|\n",
      "|  nm0057319| tt0209903|Sally Barrett-Page|  director|\n",
      "|  nm0122516| tt0147260|    Sibley Burnham|  director|\n",
      "|  nm0154852| tt0158670|    Ariana Chedley|  director|\n",
      "|  nm0158439| tt0102454|         Ying Chiu|  director|\n",
      "|  nm0162232| tt0122557|     Marjan Ciglic|  director|\n",
      "|  nm0162232|tt13767876|     Marjan Ciglic|  director|\n",
      "|  nm0162232| tt0249105|     Marjan Ciglic|  director|\n",
      "|  nm0162232| tt8201208|     Marjan Ciglic|  director|\n",
      "|  nm0178813| tt0176461|   B.J. Copperhead|  director|\n",
      "|  nm0178813| tt0179362|   B.J. Copperhead|  director|\n",
      "|  nm0178813| tt0101304|   B.J. Copperhead|  director|\n",
      "|  nm0178813| tt0135338|   B.J. Copperhead|  director|\n",
      "|  nm0182365| tt0080207| Richard Costalano|  director|\n",
      "|  nm0186639| tt0123732|   S. Bruce Craven|  director|\n",
      "|  nm0198740| tt0814792|       Michel Dami|  director|\n",
      "|  nm0198740| tt1513073|       Michel Dami|  director|\n",
      "|  nm0198740| tt0254947|       Michel Dami|  director|\n",
      "+-----------+----------+------------------+----------+\n",
      "only showing top 20 rows\n",
      "\n"
     ]
    }
   ],
   "source": [
    "Director_data_final.show()"
   ]
  },
  {
   "cell_type": "code",
   "execution_count": 90,
   "metadata": {},
   "outputs": [
    {
     "name": "stdout",
     "output_type": "stream",
     "text": [
      "+-----------+---------+--------------------+--------------------+----------+\n",
      "|Director_ID| Title_ID|            Director|        primaryTitle|Profession|\n",
      "+-----------+---------+--------------------+--------------------+----------+\n",
      "|  nm0231060|tt0009750|     Anatoli Dolinov|          Congestion|  director|\n",
      "|  nm3584392|tt0009750|    Donat Pashkovsky|          Congestion|  director|\n",
      "|  nm0401130|tt0012065|        Mario Huguin|         O Condenado|  director|\n",
      "|  nm0412334|tt0016188|Frederick Eugene ...|               Ouch!|  director|\n",
      "|  nm0140819|tt0017589|        Gene Carroll|The Adventurous Soul|  director|\n",
      "|  nm0637450|tt0025476|Jan Nowina-Przyby...|             Maryjka|  director|\n",
      "|  nm0191888|tt0027477|     Eugene Cummings|    The Crime Patrol|  director|\n",
      "|  nm0233801|tt0044949|   Anatoliy Dormenko|Na vsyakogo mudre...|  director|\n",
      "|  nm0232401|tt0046637|  Vincent J. Donehue| Producers' Showcase|  director|\n",
      "|  nm3734660|tt0046637|        Michael Case| Producers' Showcase|  director|\n",
      "|  nm0348479|tt0046704|      Mahendra Gupta|           Amar Prem|  director|\n",
      "|  nm1046642|tt0047972|    Kazuhiko Saimura|           Dankongai|  director|\n",
      "|  nm6889333|tt0051225|      Anna Nikolenko|        Zolotye ruki|  director|\n",
      "|  nm9370001|tt0051257|Martin Williams-N...|          Blue Peter|  director|\n",
      "|  nm3164978|tt0051257|     Martin Williams|          Blue Peter|  director|\n",
      "|  nm4656744|tt0051257|      Brendan Walker|          Blue Peter|  director|\n",
      "|  nm1976216|tt0053512|          Dave Brown|Phillies Jackpot ...|  director|\n",
      "|  nm0223081|tt0061943|    Keewatin Dewdney|             Malanga|  director|\n",
      "|  nm1322345|tt0063878|         Ross Bowman|     The Brady Bunch|  director|\n",
      "|  nm0144364|tt0069760|     Sergio Casstner|  Bademeister-Report|  director|\n",
      "+-----------+---------+--------------------+--------------------+----------+\n",
      "only showing top 20 rows\n",
      "\n"
     ]
    }
   ],
   "source": [
    "Driector_data_Title=sc.sql(\"select d.Director_ID,t.tconst as Title_ID,d.Name as Director, t.primaryTitle, d.Profession from Director_data_final d inner join Title_data t on t.tconst=d.Title_ID\")\n",
    "Driector_data_Title.show()"
   ]
  },
  {
   "cell_type": "code",
   "execution_count": 91,
   "metadata": {},
   "outputs": [],
   "source": [
    "create_temp_table(Driector_data_Title,\"Driector_data_Title\")"
   ]
  },
  {
   "cell_type": "code",
   "execution_count": 133,
   "metadata": {},
   "outputs": [
    {
     "name": "stdout",
     "output_type": "stream",
     "text": [
      "+---------+----------+------------------+----------+\n",
      "| Actor_ID|  Title_ID|              Name|Profession|\n",
      "+---------+----------+------------------+----------+\n",
      "|nm0001956| tt0140058|John Wayne Bobbitt|     actor|\n",
      "|nm0001956| tt0122561|John Wayne Bobbitt|     actor|\n",
      "|nm0001956|tt13634472|John Wayne Bobbitt|     actor|\n",
      "|nm0001956| tt0123610|John Wayne Bobbitt|     actor|\n",
      "|nm0004259| tt0239450|    André Kaminski|     actor|\n",
      "|nm0004259| tt2133298|    André Kaminski|     actor|\n",
      "|nm0004259| tt0366767|    André Kaminski|     actor|\n",
      "|nm0004259| tt0806910|    André Kaminski|     actor|\n",
      "|nm0005037| tt0192917|        James Hyde|     actor|\n",
      "|nm0005037| tt9730822|        James Hyde|     actor|\n",
      "|nm0005037|tt10953370|        James Hyde|     actor|\n",
      "|nm0005037| tt8655736|        James Hyde|     actor|\n",
      "|nm0005406| tt0187078| William Lee Scott|     actor|\n",
      "|nm0005406| tt0289879| William Lee Scott|     actor|\n",
      "|nm0005406| tt0213149| William Lee Scott|     actor|\n",
      "|nm0005406| tt0132477| William Lee Scott|     actor|\n",
      "|nm0006412| tt0126494|      Ashley Moore|     actor|\n",
      "|nm0006412| tt0084513|      Ashley Moore|     actor|\n",
      "|nm0006412| tt0190760|      Ashley Moore|     actor|\n",
      "|nm0006412| tt0156458|      Ashley Moore|     actor|\n",
      "+---------+----------+------------------+----------+\n",
      "only showing top 20 rows\n",
      "\n"
     ]
    }
   ],
   "source": [
    "#######################Join the transformed data with all the other columns from the basic filtered actor data########################\n",
    "Actor_data_final = sc.sql(\"select d.Actor_ID, a.Title_ID, d.Name, d.Profession from Basic_data_actor d right join Actor_data a on d.Actor_ID=a.Actor_ID where a.Title_ID IS NOT NULL and a.Actor_ID IS NOT NULL\")\n",
    "Actor_data_final.show()"
   ]
  },
  {
   "cell_type": "code",
   "execution_count": 46,
   "metadata": {},
   "outputs": [],
   "source": [
    "create_temp_table(Actor_data_final,\"Actor_data_final\")"
   ]
  },
  {
   "cell_type": "code",
   "execution_count": 47,
   "metadata": {},
   "outputs": [
    {
     "data": {
      "text/plain": [
       "0"
      ]
     },
     "execution_count": 47,
     "metadata": {},
     "output_type": "execute_result"
    }
   ],
   "source": [
    "#######################Test Case 1: Check Null values in Actor transformed table########################\n",
    "Check_null_in_ac = sc.sql(\"select * from Actor_data_final where Actor_ID IS NULL OR Actor_ID='' OR Title_ID IS NULL OR Title_ID='' OR Name IS NULL or Profession IS NULL\")\n",
    "\n",
    "Check_null_in_ac.count()"
   ]
  },
  {
   "cell_type": "code",
   "execution_count": 21,
   "metadata": {},
   "outputs": [],
   "source": [
    "######################Filtering crew data for Director_ID & Title_ID column which is not null################\n",
    "Crew_data_filtered = sc.sql(\"select tconst as Title_ID,directors as Director_ID from Crew_data where directors IS NOT NULL and tconst IS NOT NULL\")"
   ]
  },
  {
   "cell_type": "code",
   "execution_count": 22,
   "metadata": {},
   "outputs": [],
   "source": [
    "create_temp_table(Crew_data_filtered,\"Crew_data_filtered\")"
   ]
  },
  {
   "cell_type": "code",
   "execution_count": 23,
   "metadata": {},
   "outputs": [
    {
     "name": "stdout",
     "output_type": "stream",
     "text": [
      "+---------+--------------------+\n",
      "| Title_ID|         Director_ID|\n",
      "+---------+--------------------+\n",
      "|tt0000007| nm0374658,nm0005690|\n",
      "|tt0000012| nm0525910,nm0525908|\n",
      "|tt0000017| nm0804434,nm1587194|\n",
      "|tt0000030| nm0010291,nm0666972|\n",
      "|tt0000089| nm0698645,nm0525908|\n",
      "|tt0000093| nm0525910,nm0525908|\n",
      "|tt0000247|nm0002504,nm00056...|\n",
      "|tt0000287| nm0085865,nm0807236|\n",
      "|tt0000335| nm0095714,nm0675140|\n",
      "|tt0000380| nm0954087,nm0634629|\n",
      "|tt0000387| nm0617588,nm0881616|\n",
      "|tt0000399| nm2092030,nm0692105|\n",
      "|tt0000420| nm0832948,nm0378408|\n",
      "|tt0000436| nm0095816,nm0666972|\n",
      "|tt0000447| nm0692105,nm2092030|\n",
      "|tt0000498| nm0280432,nm0378408|\n",
      "|tt0000505| nm1563072,nm0381874|\n",
      "|tt0000511| nm0419327,nm0349785|\n",
      "|tt0000536| nm6758605,nm0582268|\n",
      "|tt0000546| nm0567363,nm0692105|\n",
      "+---------+--------------------+\n",
      "only showing top 20 rows\n",
      "\n"
     ]
    }
   ],
   "source": [
    "######################Filtering multiple value records from Director_ID column################\n",
    "Crew_data_multiple_val = sc.sql(\"select Title_ID, Director_ID from Crew_data_filtered where Director_ID like '%,%'\")\n",
    "Crew_data_multiple_val.show()"
   ]
  },
  {
   "cell_type": "code",
   "execution_count": 33,
   "metadata": {},
   "outputs": [],
   "source": [
    "##############Pushing data to csv on the system####################\n",
    "Crew_data_multiple_val.coalesce(1).write.format('csv').option('header',True).mode('append').option('sep','|').save(filepath_out_data+'/Crew_data_multiple_val.csv')"
   ]
  },
  {
   "cell_type": "code",
   "execution_count": 26,
   "metadata": {},
   "outputs": [
    {
     "name": "stdout",
     "output_type": "stream",
     "text": [
      "+---------+-----------+\n",
      "| Title_ID|Director_ID|\n",
      "+---------+-----------+\n",
      "|tt0000001|  nm0005690|\n",
      "|tt0000002|  nm0721526|\n",
      "|tt0000003|  nm0721526|\n",
      "|tt0000004|  nm0721526|\n",
      "|tt0000005|  nm0005690|\n",
      "|tt0000006|  nm0005690|\n",
      "|tt0000008|  nm0005690|\n",
      "|tt0000009|  nm0085156|\n",
      "|tt0000010|  nm0525910|\n",
      "|tt0000011|  nm0804434|\n",
      "|tt0000013|  nm0525910|\n",
      "|tt0000014|  nm0525910|\n",
      "|tt0000015|  nm0721526|\n",
      "|tt0000016|  nm0525910|\n",
      "|tt0000018|  nm0804434|\n",
      "|tt0000019|  nm0932055|\n",
      "|tt0000020|  nm0010291|\n",
      "|tt0000022|  nm0525910|\n",
      "|tt0000023|  nm0525910|\n",
      "|tt0000024|  nm0010291|\n",
      "+---------+-----------+\n",
      "only showing top 20 rows\n",
      "\n"
     ]
    }
   ],
   "source": [
    "######################Filtering single value records from Director_ID column################\n",
    "Crew_data_single_val = sc.sql(\"select Title_ID, Director_ID from Crew_data_filtered where Director_ID not like '%,%'\")\n",
    "Crew_data_single_val.show()"
   ]
  },
  {
   "cell_type": "code",
   "execution_count": 37,
   "metadata": {},
   "outputs": [],
   "source": [
    "##############Pushing data to csv on the system####################\n",
    "Crew_data_single_val.coalesce(1).write.format('csv').option('header',True).mode('append').option('sep','|').save('C:/Users/91993/Documents/Movies/out/Crew_data_single_val.csv')"
   ]
  },
  {
   "cell_type": "code",
   "execution_count": 27,
   "metadata": {},
   "outputs": [
    {
     "data": {
      "text/html": [
       "<div>\n",
       "<style scoped>\n",
       "    .dataframe tbody tr th:only-of-type {\n",
       "        vertical-align: middle;\n",
       "    }\n",
       "\n",
       "    .dataframe tbody tr th {\n",
       "        vertical-align: top;\n",
       "    }\n",
       "\n",
       "    .dataframe thead th {\n",
       "        text-align: right;\n",
       "    }\n",
       "</style>\n",
       "<table border=\"1\" class=\"dataframe\">\n",
       "  <thead>\n",
       "    <tr style=\"text-align: right;\">\n",
       "      <th></th>\n",
       "      <th>Title_ID</th>\n",
       "      <th>Director_ID</th>\n",
       "    </tr>\n",
       "  </thead>\n",
       "  <tbody>\n",
       "    <tr>\n",
       "      <th>0</th>\n",
       "      <td>tt0000001</td>\n",
       "      <td>nm0005690</td>\n",
       "    </tr>\n",
       "    <tr>\n",
       "      <th>1</th>\n",
       "      <td>tt0000002</td>\n",
       "      <td>nm0721526</td>\n",
       "    </tr>\n",
       "    <tr>\n",
       "      <th>2</th>\n",
       "      <td>tt0000003</td>\n",
       "      <td>nm0721526</td>\n",
       "    </tr>\n",
       "    <tr>\n",
       "      <th>3</th>\n",
       "      <td>tt0000004</td>\n",
       "      <td>nm0721526</td>\n",
       "    </tr>\n",
       "    <tr>\n",
       "      <th>4</th>\n",
       "      <td>tt0000005</td>\n",
       "      <td>nm0005690</td>\n",
       "    </tr>\n",
       "    <tr>\n",
       "      <th>...</th>\n",
       "      <td>...</td>\n",
       "      <td>...</td>\n",
       "    </tr>\n",
       "    <tr>\n",
       "      <th>7127711</th>\n",
       "      <td>tt9916810</td>\n",
       "      <td>nm2317339</td>\n",
       "    </tr>\n",
       "    <tr>\n",
       "      <th>7127712</th>\n",
       "      <td>tt9916830</td>\n",
       "      <td>nm4289598</td>\n",
       "    </tr>\n",
       "    <tr>\n",
       "      <th>7127713</th>\n",
       "      <td>tt9916840</td>\n",
       "      <td>nm0996406</td>\n",
       "    </tr>\n",
       "    <tr>\n",
       "      <th>7127714</th>\n",
       "      <td>tt9916856</td>\n",
       "      <td>nm10538645</td>\n",
       "    </tr>\n",
       "    <tr>\n",
       "      <th>7127715</th>\n",
       "      <td>tt9916880</td>\n",
       "      <td>nm0996406</td>\n",
       "    </tr>\n",
       "  </tbody>\n",
       "</table>\n",
       "<p>7127716 rows × 2 columns</p>\n",
       "</div>"
      ],
      "text/plain": [
       "          Title_ID Director_ID\n",
       "0        tt0000001   nm0005690\n",
       "1        tt0000002   nm0721526\n",
       "2        tt0000003   nm0721526\n",
       "3        tt0000004   nm0721526\n",
       "4        tt0000005   nm0005690\n",
       "...            ...         ...\n",
       "7127711  tt9916810   nm2317339\n",
       "7127712  tt9916830   nm4289598\n",
       "7127713  tt9916840   nm0996406\n",
       "7127714  tt9916856  nm10538645\n",
       "7127715  tt9916880   nm0996406\n",
       "\n",
       "[7127716 rows x 2 columns]"
      ]
     },
     "execution_count": 27,
     "metadata": {},
     "output_type": "execute_result"
    }
   ],
   "source": [
    "####################Reading in data frame for converting multiple column data into rows##################\n",
    "Crew_data_single_val_=pd.read_csv(filepath_out_data+\"/Crew_data_single_val.csv/part-00000-ca460a1f-514a-410b-996c-617a94483062-c000.csv\",sep=\"|\")\n",
    "Crew_data_single_val_"
   ]
  },
  {
   "cell_type": "code",
   "execution_count": 28,
   "metadata": {},
   "outputs": [
    {
     "data": {
      "text/html": [
       "<div>\n",
       "<style scoped>\n",
       "    .dataframe tbody tr th:only-of-type {\n",
       "        vertical-align: middle;\n",
       "    }\n",
       "\n",
       "    .dataframe tbody tr th {\n",
       "        vertical-align: top;\n",
       "    }\n",
       "\n",
       "    .dataframe thead th {\n",
       "        text-align: right;\n",
       "    }\n",
       "</style>\n",
       "<table border=\"1\" class=\"dataframe\">\n",
       "  <thead>\n",
       "    <tr style=\"text-align: right;\">\n",
       "      <th></th>\n",
       "      <th>Title_ID</th>\n",
       "      <th>Director_ID</th>\n",
       "    </tr>\n",
       "  </thead>\n",
       "  <tbody>\n",
       "    <tr>\n",
       "      <th>0</th>\n",
       "      <td>tt0000007</td>\n",
       "      <td>nm0374658</td>\n",
       "    </tr>\n",
       "    <tr>\n",
       "      <th>1</th>\n",
       "      <td>tt0000007</td>\n",
       "      <td>nm0005690</td>\n",
       "    </tr>\n",
       "    <tr>\n",
       "      <th>2</th>\n",
       "      <td>tt0000012</td>\n",
       "      <td>nm0525910</td>\n",
       "    </tr>\n",
       "    <tr>\n",
       "      <th>3</th>\n",
       "      <td>tt0000012</td>\n",
       "      <td>nm0525908</td>\n",
       "    </tr>\n",
       "    <tr>\n",
       "      <th>4</th>\n",
       "      <td>tt0000017</td>\n",
       "      <td>nm0804434</td>\n",
       "    </tr>\n",
       "    <tr>\n",
       "      <th>...</th>\n",
       "      <td>...</td>\n",
       "      <td>...</td>\n",
       "    </tr>\n",
       "    <tr>\n",
       "      <th>2312250</th>\n",
       "      <td>tt9916848</td>\n",
       "      <td>nm5519375</td>\n",
       "    </tr>\n",
       "    <tr>\n",
       "      <th>2312251</th>\n",
       "      <td>tt9916850</td>\n",
       "      <td>nm5519375</td>\n",
       "    </tr>\n",
       "    <tr>\n",
       "      <th>2312252</th>\n",
       "      <td>tt9916850</td>\n",
       "      <td>nm5519454</td>\n",
       "    </tr>\n",
       "    <tr>\n",
       "      <th>2312253</th>\n",
       "      <td>tt9916852</td>\n",
       "      <td>nm5519375</td>\n",
       "    </tr>\n",
       "    <tr>\n",
       "      <th>2312254</th>\n",
       "      <td>tt9916852</td>\n",
       "      <td>nm5519454</td>\n",
       "    </tr>\n",
       "  </tbody>\n",
       "</table>\n",
       "<p>2312255 rows × 2 columns</p>\n",
       "</div>"
      ],
      "text/plain": [
       "          Title_ID Director_ID\n",
       "0        tt0000007   nm0374658\n",
       "1        tt0000007   nm0005690\n",
       "2        tt0000012   nm0525910\n",
       "3        tt0000012   nm0525908\n",
       "4        tt0000017   nm0804434\n",
       "...            ...         ...\n",
       "2312250  tt9916848   nm5519375\n",
       "2312251  tt9916850   nm5519375\n",
       "2312252  tt9916850   nm5519454\n",
       "2312253  tt9916852   nm5519375\n",
       "2312254  tt9916852   nm5519454\n",
       "\n",
       "[2312255 rows x 2 columns]"
      ]
     },
     "execution_count": 28,
     "metadata": {},
     "output_type": "execute_result"
    }
   ],
   "source": [
    "##########################Converting the Director_ID column values into row format on the Title_ID############\n",
    "Crew_data_multiple_val_=pd.read_csv(filepath_out_data+\"/Crew_data_multiple_val.csv/part-00000-d25fce6c-49f0-498e-80a8-7a599a3e4799-c000.csv\",sep=\"|\",na_values=[\"\\\\N\",\"nan\"])\n",
    "Crew_data_multiple_val_t = pd.DataFrame(Crew_data_multiple_val_.Director_ID.str.split(',').tolist(), index=Crew_data_multiple_val_.Title_ID).stack()\n",
    "Crew_data_multiple_val_c = Crew_data_multiple_val_t.reset_index([0, 'Title_ID'])\n",
    "Crew_data_multiple_val_c.columns =['Title_ID', 'Director_ID']\n",
    "Crew_data_multiple_val_c"
   ]
  },
  {
   "cell_type": "code",
   "execution_count": 40,
   "metadata": {},
   "outputs": [],
   "source": [
    "######################Pushing all the data from single & multiple converted dataframe into a single file################\n",
    "Crew_data_multiple_val_c.to_csv(filepath_out_data+'/Crew_data_final.csv', index=None, sep=',', mode='a')\n",
    "Crew_data_single_val_.to_csv(filepath_out_data+'/Crew_data_final.csv', index=None, sep=',', mode='a')"
   ]
  },
  {
   "cell_type": "code",
   "execution_count": 49,
   "metadata": {},
   "outputs": [
    {
     "data": {
      "text/plain": [
       "9439972"
      ]
     },
     "execution_count": 49,
     "metadata": {},
     "output_type": "execute_result"
    }
   ],
   "source": [
    "#####################Reading the final crew dataset after transformation################\n",
    "Crew_data_final = sc.read.csv(filepath_out_data+'/Crew_data_final.csv',sep=\",\",header= True)\n",
    "Crew_data_final.count()"
   ]
  },
  {
   "cell_type": "code",
   "execution_count": 50,
   "metadata": {},
   "outputs": [],
   "source": [
    "################Create temporary table for Crew_data_final#############\n",
    "create_temp_table(Crew_data_final,\"Crew_data_final\")"
   ]
  },
  {
   "cell_type": "code",
   "execution_count": 108,
   "metadata": {},
   "outputs": [
    {
     "data": {
      "text/plain": [
       "9752371"
      ]
     },
     "execution_count": 108,
     "metadata": {},
     "output_type": "execute_result"
    }
   ],
   "source": [
    "#######################JOin Basic_data Director and Crew data#######################\n",
    "Director_crew_combined = sc.sql(\"select b.Title_ID,b.Director_ID,a.Director,a.Profession,a.primaryTitle from Driector_data_Title a right join Crew_data_final b on a.Title_ID=b.Title_ID where b.Director_ID IS NOT NULL\")\n",
    "\n",
    "Director_crew_combined.count()"
   ]
  },
  {
   "cell_type": "code",
   "execution_count": 109,
   "metadata": {},
   "outputs": [
    {
     "name": "stdout",
     "output_type": "stream",
     "text": [
      "+---------+-----------+--------+----------+------------+\n",
      "| Title_ID|Director_ID|Director|Profession|primaryTitle|\n",
      "+---------+-----------+--------+----------+------------+\n",
      "|tt0000013|  nm0525910|    null|      null|        null|\n",
      "|tt0000055|  nm0617588|    null|      null|        null|\n",
      "|tt0000080|  nm0617588|    null|      null|        null|\n",
      "|tt0000081|  nm0617588|    null|      null|        null|\n",
      "|tt0000109|  nm0005690|    null|      null|        null|\n",
      "|tt0000137|  nm0349785|    null|      null|        null|\n",
      "|tt0000161|  nm0349785|    null|      null|        null|\n",
      "|tt0000238|  nm0349785|    null|      null|        null|\n",
      "|tt0000388|  nm0349785|    null|      null|        null|\n",
      "|tt0000416|  nm0954087|    null|      null|        null|\n",
      "|tt0000420|  nm0832948|    null|      null|        null|\n",
      "|tt0000420|  nm0378408|    null|      null|        null|\n",
      "|tt0000440|  nm0617588|    null|      null|        null|\n",
      "|tt0000491|         \\N|    null|      null|        null|\n",
      "|tt0000555|  nm0488932|    null|      null|        null|\n",
      "|tt0000658|  nm0169871|    null|      null|        null|\n",
      "|tt0000697|  nm0000428|    null|      null|        null|\n",
      "|tt0000761|  nm0005717|    null|      null|        null|\n",
      "|tt0000798|  nm0294276|    null|      null|        null|\n",
      "|tt0000839|  nm0294276|    null|      null|        null|\n",
      "+---------+-----------+--------+----------+------------+\n",
      "only showing top 20 rows\n",
      "\n"
     ]
    }
   ],
   "source": [
    "Director_crew_combined.show()"
   ]
  },
  {
   "cell_type": "code",
   "execution_count": 110,
   "metadata": {},
   "outputs": [],
   "source": [
    "##################Create temp table#############\n",
    "create_temp_table(Director_crew_combined,\"Director_crew_combined\")"
   ]
  },
  {
   "cell_type": "code",
   "execution_count": 104,
   "metadata": {},
   "outputs": [
    {
     "name": "stdout",
     "output_type": "stream",
     "text": [
      "+---------+---------+---------------+---------------+-------+---------+-------+--------------+------------------+\n",
      "|   tconst|titleType|   primaryTitle|  originalTitle|isAdult|startYear|endYear|runtimeMinutes|            genres|\n",
      "+---------+---------+---------------+---------------+-------+---------+-------+--------------+------------------+\n",
      "|tt0372784|    movie|  Batman Begins|  Batman Begins|      0|     2005|     \\N|           140|  Action,Adventure|\n",
      "|tt0468569|    movie|The Dark Knight|The Dark Knight|      0|     2008|     \\N|           152|Action,Crime,Drama|\n",
      "+---------+---------+---------------+---------------+-------+---------+-------+--------------+------------------+\n",
      "\n"
     ]
    }
   ],
   "source": []
  },
  {
   "cell_type": "code",
   "execution_count": 111,
   "metadata": {},
   "outputs": [
    {
     "data": {
      "text/plain": [
       "482832"
      ]
     },
     "execution_count": 111,
     "metadata": {},
     "output_type": "execute_result"
    }
   ],
   "source": [
    "#####################Filtering & removing null values from Title_ID & Director_ID###################\n",
    "Director_crew_ana = sc.sql(\"select * from Director_crew_combined where Title_ID IS NOT NULL and Director_ID IS NOT NULL and Director IS NOT NULL and Profession IS NOT NULL\")\n",
    "Director_crew_ana.count()"
   ]
  },
  {
   "cell_type": "code",
   "execution_count": 112,
   "metadata": {},
   "outputs": [],
   "source": [
    "##################Create temp table for director & crew data#############\n",
    "create_temp_table(Director_crew_ana,\"Director_crew_ana\")"
   ]
  },
  {
   "cell_type": "code",
   "execution_count": 113,
   "metadata": {},
   "outputs": [
    {
     "name": "stdout",
     "output_type": "stream",
     "text": [
      "+---------+-----------+--------------------+----------+--------------------+\n",
      "| Title_ID|Director_ID|            Director|Profession|        primaryTitle|\n",
      "+---------+-----------+--------------------+----------+--------------------+\n",
      "|tt0009750|  nm3584392|     Anatoli Dolinov|  director|          Congestion|\n",
      "|tt0009750|  nm0231060|     Anatoli Dolinov|  director|          Congestion|\n",
      "|tt0009750|  nm0659816|     Anatoli Dolinov|  director|          Congestion|\n",
      "|tt0009750|  nm3584392|    Donat Pashkovsky|  director|          Congestion|\n",
      "|tt0009750|  nm0231060|    Donat Pashkovsky|  director|          Congestion|\n",
      "|tt0009750|  nm0659816|    Donat Pashkovsky|  director|          Congestion|\n",
      "|tt0012065|  nm0301393|        Mario Huguin|  director|         O Condenado|\n",
      "|tt0012065|  nm0401130|        Mario Huguin|  director|         O Condenado|\n",
      "|tt0016188|  nm0505295|Frederick Eugene ...|  director|               Ouch!|\n",
      "|tt0016188|  nm0412334|Frederick Eugene ...|  director|               Ouch!|\n",
      "|tt0017589|  nm0140819|        Gene Carroll|  director|The Adventurous Soul|\n",
      "|tt0025476|  nm0637450|Jan Nowina-Przyby...|  director|             Maryjka|\n",
      "|tt0025476|  nm0737407|Jan Nowina-Przyby...|  director|             Maryjka|\n",
      "|tt0027477|  nm0191888|     Eugene Cummings|  director|    The Crime Patrol|\n",
      "|tt0044949|  nm0233801|   Anatoliy Dormenko|  director|Na vsyakogo mudre...|\n",
      "|tt0044949|  nm0837735|   Anatoliy Dormenko|  director|Na vsyakogo mudre...|\n",
      "|tt0046637|  nm0002072|  Vincent J. Donehue|  director| Producers' Showcase|\n",
      "|tt0046637|  nm0943758|  Vincent J. Donehue|  director| Producers' Showcase|\n",
      "|tt0046637|  nm0001486|  Vincent J. Donehue|  director| Producers' Showcase|\n",
      "|tt0046637|  nm0769874|  Vincent J. Donehue|  director| Producers' Showcase|\n",
      "+---------+-----------+--------------------+----------+--------------------+\n",
      "only showing top 20 rows\n",
      "\n"
     ]
    }
   ],
   "source": [
    "Director_crew_ana.show()"
   ]
  },
  {
   "cell_type": "code",
   "execution_count": 114,
   "metadata": {},
   "outputs": [
    {
     "name": "stdout",
     "output_type": "stream",
     "text": [
      "+---------+----------+------------------+----------+\n",
      "| Actor_ID|  Title_ID|              Name|Profession|\n",
      "+---------+----------+------------------+----------+\n",
      "|nm0001956| tt0140058|John Wayne Bobbitt|     actor|\n",
      "|nm0001956| tt0122561|John Wayne Bobbitt|     actor|\n",
      "|nm0001956|tt13634472|John Wayne Bobbitt|     actor|\n",
      "|nm0001956| tt0123610|John Wayne Bobbitt|     actor|\n",
      "|nm0004259| tt0239450|    André Kaminski|     actor|\n",
      "|nm0004259| tt2133298|    André Kaminski|     actor|\n",
      "|nm0004259| tt0366767|    André Kaminski|     actor|\n",
      "|nm0004259| tt0806910|    André Kaminski|     actor|\n",
      "|nm0005037| tt0192917|        James Hyde|     actor|\n",
      "|nm0005037| tt9730822|        James Hyde|     actor|\n",
      "|nm0005037|tt10953370|        James Hyde|     actor|\n",
      "|nm0005037| tt8655736|        James Hyde|     actor|\n",
      "|nm0005406| tt0187078| William Lee Scott|     actor|\n",
      "|nm0005406| tt0289879| William Lee Scott|     actor|\n",
      "|nm0005406| tt0213149| William Lee Scott|     actor|\n",
      "|nm0005406| tt0132477| William Lee Scott|     actor|\n",
      "|nm0006412| tt0126494|      Ashley Moore|     actor|\n",
      "|nm0006412| tt0084513|      Ashley Moore|     actor|\n",
      "|nm0006412| tt0190760|      Ashley Moore|     actor|\n",
      "|nm0006412| tt0156458|      Ashley Moore|     actor|\n",
      "+---------+----------+------------------+----------+\n",
      "only showing top 20 rows\n",
      "\n"
     ]
    }
   ],
   "source": [
    "Actor_data_final.show()"
   ]
  },
  {
   "cell_type": "code",
   "execution_count": 120,
   "metadata": {
    "scrolled": true
   },
   "outputs": [
    {
     "name": "stdout",
     "output_type": "stream",
     "text": [
      "+---------+------------------+--------------------+----------------+------------+\n",
      "| Title_ID|      Actor_Dir_ID|          Actor_Name|   Director_Name|primaryTitle|\n",
      "+---------+------------------+--------------------+----------------+------------+\n",
      "|tt0009750|nm3584392nm0503948|   Dmitri Leshchenko| Anatoli Dolinov|  Congestion|\n",
      "|tt0009750|nm3584392nm0503815|        Ivan Lerskiy| Anatoli Dolinov|  Congestion|\n",
      "|tt0009750|nm0231060nm0503948|   Dmitri Leshchenko| Anatoli Dolinov|  Congestion|\n",
      "|tt0009750|nm0231060nm0503815|        Ivan Lerskiy| Anatoli Dolinov|  Congestion|\n",
      "|tt0009750|nm0659816nm0503948|   Dmitri Leshchenko| Anatoli Dolinov|  Congestion|\n",
      "|tt0009750|nm0659816nm0503815|        Ivan Lerskiy| Anatoli Dolinov|  Congestion|\n",
      "|tt0009750|nm3584392nm0503948|   Dmitri Leshchenko|Donat Pashkovsky|  Congestion|\n",
      "|tt0009750|nm3584392nm0503815|        Ivan Lerskiy|Donat Pashkovsky|  Congestion|\n",
      "|tt0009750|nm0231060nm0503948|   Dmitri Leshchenko|Donat Pashkovsky|  Congestion|\n",
      "|tt0009750|nm0231060nm0503815|        Ivan Lerskiy|Donat Pashkovsky|  Congestion|\n",
      "|tt0009750|nm0659816nm0503948|   Dmitri Leshchenko|Donat Pashkovsky|  Congestion|\n",
      "|tt0009750|nm0659816nm0503815|        Ivan Lerskiy|Donat Pashkovsky|  Congestion|\n",
      "|tt0012065|nm0301393nm0684635|      Clemente Pinto|    Mario Huguin| O Condenado|\n",
      "|tt0012065|nm0301393nm2144785|     Alfredo Martins|    Mario Huguin| O Condenado|\n",
      "|tt0012065|nm0301393nm2126360|Francisco de Sous...|    Mario Huguin| O Condenado|\n",
      "|tt0012065|nm0301393nm2113655|        Júlio Soares|    Mario Huguin| O Condenado|\n",
      "|tt0012065|nm0301393nm2125511|       Álvaro Gaspar|    Mario Huguin| O Condenado|\n",
      "|tt0012065|nm0301393nm0210685| Joaquim de Oliveira|    Mario Huguin| O Condenado|\n",
      "|tt0012065|nm0301393nm1961170|         Luis Leitão|    Mario Huguin| O Condenado|\n",
      "|tt0012065|nm0301393nm2142248|   Silvério Dos Reis|    Mario Huguin| O Condenado|\n",
      "+---------+------------------+--------------------+----------------+------------+\n",
      "only showing top 20 rows\n",
      "\n"
     ]
    }
   ],
   "source": [
    "###############Concate Director_ID & Actor_ID for identifying most collaboration#################\n",
    "Director_actor_check = sc.sql(\"select a.Title_ID, CONCAT(d.Director_ID, a.Actor_ID) as Actor_Dir_ID, a.Name as Actor_Name, d.Director as Director_Name, d.primaryTitle  from Director_crew_ana d inner join Actor_data_final a on d.Title_ID=a.Title_ID\")\n",
    "Director_actor_check.show()"
   ]
  },
  {
   "cell_type": "code",
   "execution_count": 121,
   "metadata": {},
   "outputs": [],
   "source": [
    "##############Push temp table to check collaboration#################\n",
    "create_temp_table(Director_actor_check,\"Director_actor_check\")"
   ]
  },
  {
   "cell_type": "code",
   "execution_count": 122,
   "metadata": {},
   "outputs": [
    {
     "name": "stdout",
     "output_type": "stream",
     "text": [
      "+--------------------+-------------------+------------------+-------------------+\n",
      "|          Actor_Name|      Director_Name|      Actor_Dir_ID|count(Actor_Dir_ID)|\n",
      "+--------------------+-------------------+------------------+-------------------+\n",
      "|'Amarillo Slim' P...|Constance Bannister|nm3982228nm0696378|                  1|\n",
      "|'Amarillo Slim' P...|Constance Bannister|nm3163535nm0696378|                  1|\n",
      "|'Amarillo Slim' P...|Constance Bannister|nm1298498nm0696378|                  1|\n",
      "|'Amarillo Slim' P...|Constance Bannister|nm0521700nm0696378|                  1|\n",
      "|'Amarillo Slim' P...|Constance Bannister|nm0454660nm0696378|                  1|\n",
      "|'Amarillo Slim' P...|Constance Bannister|nm0286601nm0696378|                  1|\n",
      "|'Amarillo Slim' P...|      Ernest Sherry|nm3982228nm0696378|                  1|\n",
      "|'Amarillo Slim' P...|      Ernest Sherry|nm3163535nm0696378|                  1|\n",
      "|'Amarillo Slim' P...|      Ernest Sherry|nm1298498nm0696378|                  1|\n",
      "|'Amarillo Slim' P...|      Ernest Sherry|nm0521700nm0696378|                  1|\n",
      "+--------------------+-------------------+------------------+-------------------+\n",
      "\n"
     ]
    }
   ],
   "source": [
    "Director_actor_check_count = sc.sql(\"select Actor_Name, Director_Name,Actor_Dir_ID,count(Actor_Dir_ID) from Director_actor_check group by Actor_Name, Director_Name,Actor_Dir_ID order by Actor_Name, Director_Name,Actor_Dir_ID desc limit 10\")\n",
    "Director_actor_check_count.show()\n",
    "\n",
    "#Initial impression suggests there is not more than one collaboration between the Actor & Director"
   ]
  },
  {
   "cell_type": "code",
   "execution_count": 123,
   "metadata": {},
   "outputs": [
    {
     "name": "stdout",
     "output_type": "stream",
     "text": [
      "+---------+--------------------+---------+---------+--------------------+--------------------+\n",
      "|   nconst|         primaryName|birthYear|deathYear|   primaryProfession|      knownForTitles|\n",
      "+---------+--------------------+---------+---------+--------------------+--------------------+\n",
      "|nm0000288|      Christian Bale|     1974|       \\N|actor,editorial_d...|tt0372784,tt04685...|\n",
      "|nm3577667|     Christian Bales|       \\N|       \\N|               actor| tt5185564,tt0822831|\n",
      "|nm7635250|Christian Balenciaga|       \\N|       \\N|  make_up_department|           tt1252370|\n",
      "+---------+--------------------+---------+---------+--------------------+--------------------+\n",
      "\n"
     ]
    }
   ],
   "source": [
    "#############Test Case 1: Finding title for actors##################\n",
    "#Christopher Nolan(Director) & Chirstian Bale(Actor)- worked together in more than 4 movies.\n",
    "\n",
    "Basic_data_check1 =sc.sql(\"select * from basic_data where primaryName like '%Christian Bale%' or primaryName like '%Micheal Cane%'\")\n",
    "Basic_data_check1.show()\n",
    "\n",
    "#Christian Bale's Movie history is given by the following titles ('tt0372784','tt0468569','tt0144084','tt1800241','tt5185564','tt0822831')"
   ]
  },
  {
   "cell_type": "code",
   "execution_count": 73,
   "metadata": {},
   "outputs": [
    {
     "name": "stdout",
     "output_type": "stream",
     "text": [
      "+---------+-------------------+--------------------+\n",
      "|   tconst|          directors|             writers|\n",
      "+---------+-------------------+--------------------+\n",
      "|tt0144084|          nm0366004|nm0254735,nm03660...|\n",
      "|tt0372784|          nm0634240|nm0004170,nm02752...|\n",
      "|tt0468569|          nm0634240|nm0634300,nm06342...|\n",
      "|tt0822831|          nm1703702|           nm1703702|\n",
      "|tt1800241|          nm0751102| nm2545235,nm0751102|\n",
      "|tt5185564|nm3815946,nm5245325|nm1373871,nm37673...|\n",
      "+---------+-------------------+--------------------+\n",
      "\n"
     ]
    }
   ],
   "source": [
    "##############Test Case 2: Searching Bale's Title_ID to find Christopher Nolan's Director_ID##################\n",
    "Crew_data_check=sc.sql(\"select * from crew_data where tconst IN ('tt0372784','tt0468569','tt0144084','tt1800241','tt5185564','tt0822831')\")\n",
    "Crew_data_check.show()"
   ]
  },
  {
   "cell_type": "code",
   "execution_count": 76,
   "metadata": {},
   "outputs": [
    {
     "name": "stdout",
     "output_type": "stream",
     "text": [
      "+---------+-----------------+---------+---------+--------------------+--------------------+\n",
      "|   nconst|      primaryName|birthYear|deathYear|   primaryProfession|      knownForTitles|\n",
      "+---------+-----------------+---------+---------+--------------------+--------------------+\n",
      "|nm0634240|Christopher Nolan|     1970|       \\N|writer,producer,d...|tt0816692,tt13756...|\n",
      "+---------+-----------------+---------+---------+--------------------+--------------------+\n",
      "\n"
     ]
    }
   ],
   "source": [
    "##############Test Case 3:Searching Director_ID#########\n",
    "Search_dir=sc.sql(\"select * from basic_data where nconst in ('nm0366004','nm0634240','nm1703702','nm0751102','nm3815946','nm5245325') and primaryName like '%Chris%Nolan%'\")\n",
    "Search_dir.show()"
   ]
  },
  {
   "cell_type": "code",
   "execution_count": 78,
   "metadata": {},
   "outputs": [
    {
     "name": "stdout",
     "output_type": "stream",
     "text": [
      "+---------+---------+---------------+---------------+-------+---------+-------+--------------+------------------+\n",
      "|   tconst|titleType|   primaryTitle|  originalTitle|isAdult|startYear|endYear|runtimeMinutes|            genres|\n",
      "+---------+---------+---------------+---------------+-------+---------+-------+--------------+------------------+\n",
      "|tt0372784|    movie|  Batman Begins|  Batman Begins|      0|     2005|     \\N|           140|  Action,Adventure|\n",
      "|tt0468569|    movie|The Dark Knight|The Dark Knight|      0|     2008|     \\N|           152|Action,Crime,Drama|\n",
      "+---------+---------+---------------+---------------+-------+---------+-------+--------------+------------------+\n",
      "\n"
     ]
    }
   ],
   "source": [
    "###########Test Case 4: Finding Movies #########\n",
    "Search_movie=sc.sql(\"select * from  where Title_ID in ('tt0372784','tt0468569')\")\n",
    "Search_movie.show()"
   ]
  },
  {
   "cell_type": "code",
   "execution_count": 107,
   "metadata": {},
   "outputs": [
    {
     "name": "stdout",
     "output_type": "stream",
     "text": [
      "+---------+--------------------+---------+---------+-----------------+--------------+\n",
      "|   nconst|         primaryName|birthYear|deathYear|primaryProfession|knownForTitles|\n",
      "+---------+--------------------+---------+---------+-----------------+--------------+\n",
      "|nm3059835|Michael Corey Foster|       \\N|       \\N|            actor|     tt0468569|\n",
      "+---------+--------------------+---------+---------+-----------------+--------------+\n",
      "\n"
     ]
    }
   ],
   "source": [
    "####################Test Case 5: No association found in accordance to Bale or other actors like Micheal Cane###################\n",
    "Search_movie_association = sc.sql(\"select * from basic_data where knownForTitles IN (select tconst from Title_data where tconst IN ('tt0372784','tt0468569') and primaryProfession IN ('actor','director'))\")\n",
    "Search_movie_association.show()"
   ]
  },
  {
   "cell_type": "markdown",
   "metadata": {},
   "source": [
    "### Conclusion for Question 2: The data seems to be low. Therefore, there is not more than one actor-director collaborations available.\n",
    "\n",
    "\n",
    "# Question 3:\n",
    "## Genres that an actor has worked in i.e. Number Of Movies and tv shows per genre.\n",
    "\n",
    "### The genres column from the title data have more than one genre in the column. To reach more granular value transformation is required for it.\n",
    "### Using the column trnasformation approach used in the above question can be applied."
   ]
  },
  {
   "cell_type": "code",
   "execution_count": 189,
   "metadata": {},
   "outputs": [
    {
     "name": "stdout",
     "output_type": "stream",
     "text": [
      "+---------+---------+--------------------+--------------------+-------+---------+-------+--------------+--------------------+\n",
      "|   tconst|titleType|        primaryTitle|       originalTitle|isAdult|startYear|endYear|runtimeMinutes|              genres|\n",
      "+---------+---------+--------------------+--------------------+-------+---------+-------+--------------+--------------------+\n",
      "|tt0000001|    short|          Carmencita|          Carmencita|      0|     1894|     \\N|             1|   Documentary,Short|\n",
      "|tt0000002|    short|Le clown et ses c...|Le clown et ses c...|      0|     1892|     \\N|             5|     Animation,Short|\n",
      "|tt0000003|    short|      Pauvre Pierrot|      Pauvre Pierrot|      0|     1892|     \\N|             4|Animation,Comedy,...|\n",
      "|tt0000004|    short|         Un bon bock|         Un bon bock|      0|     1892|     \\N|            12|     Animation,Short|\n",
      "|tt0000005|    short|    Blacksmith Scene|    Blacksmith Scene|      0|     1893|     \\N|             1|        Comedy,Short|\n",
      "|tt0000006|    short|   Chinese Opium Den|   Chinese Opium Den|      0|     1894|     \\N|             1|               Short|\n",
      "|tt0000007|    short|Corbett and Court...|Corbett and Court...|      0|     1894|     \\N|             1|         Short,Sport|\n",
      "|tt0000008|    short|Edison Kinetoscop...|Edison Kinetoscop...|      0|     1894|     \\N|             1|   Documentary,Short|\n",
      "|tt0000009|    short|          Miss Jerry|          Miss Jerry|      0|     1894|     \\N|            40|       Romance,Short|\n",
      "|tt0000010|    short| Leaving the Factory|La sortie de l'us...|      0|     1895|     \\N|             1|   Documentary,Short|\n",
      "|tt0000011|    short|Akrobatisches Pot...|Akrobatisches Pot...|      0|     1895|     \\N|             1|   Documentary,Short|\n",
      "|tt0000012|    short|The Arrival of a ...|L'arrivée d'un tr...|      0|     1896|     \\N|             1|   Documentary,Short|\n",
      "|tt0000013|    short|The Photographica...|Neuville-sur-Saôn...|      0|     1895|     \\N|             1|   Documentary,Short|\n",
      "|tt0000014|    short| The Waterer Watered|   L'arroseur arrosé|      0|     1895|     \\N|             1|        Comedy,Short|\n",
      "|tt0000015|    short| Autour d'une cabine| Autour d'une cabine|      0|     1894|     \\N|             2|     Animation,Short|\n",
      "|tt0000016|    short|Barque sortant du...|Barque sortant du...|      0|     1895|     \\N|             1|   Documentary,Short|\n",
      "|tt0000017|    short|Italienischer Bau...|Italienischer Bau...|      0|     1895|     \\N|             1|   Documentary,Short|\n",
      "|tt0000018|    short|Das boxende Känguruh|Das boxende Känguruh|      0|     1895|     \\N|             1|               Short|\n",
      "|tt0000019|    short|    The Clown Barber|    The Clown Barber|      0|     1898|     \\N|            \\N|        Comedy,Short|\n",
      "|tt0000020|    short|      The Derby 1895|      The Derby 1895|      0|     1895|     \\N|             1|Documentary,Short...|\n",
      "+---------+---------+--------------------+--------------------+-------+---------+-------+--------------+--------------------+\n",
      "only showing top 20 rows\n",
      "\n"
     ]
    }
   ],
   "source": [
    "#####################Reading data#####################\n",
    "Title_data = sc.read.csv(filepath_title_data+\"/data.tsv\",sep=\"\\t\",header= True)\n",
    "Title_data.show()"
   ]
  },
  {
   "cell_type": "code",
   "execution_count": 130,
   "metadata": {
    "scrolled": true
   },
   "outputs": [
    {
     "name": "stdout",
     "output_type": "stream",
     "text": [
      "+---------+----------+------------------+----------+\n",
      "| Actor_ID|  Title_ID|              Name|Profession|\n",
      "+---------+----------+------------------+----------+\n",
      "|nm0001956| tt0140058|John Wayne Bobbitt|     actor|\n",
      "|nm0001956| tt0122561|John Wayne Bobbitt|     actor|\n",
      "|nm0001956|tt13634472|John Wayne Bobbitt|     actor|\n",
      "|nm0001956| tt0123610|John Wayne Bobbitt|     actor|\n",
      "|nm0004259| tt0239450|    André Kaminski|     actor|\n",
      "|nm0004259| tt2133298|    André Kaminski|     actor|\n",
      "|nm0004259| tt0366767|    André Kaminski|     actor|\n",
      "|nm0004259| tt0806910|    André Kaminski|     actor|\n",
      "|nm0005037| tt0192917|        James Hyde|     actor|\n",
      "|nm0005037| tt9730822|        James Hyde|     actor|\n",
      "|nm0005037|tt10953370|        James Hyde|     actor|\n",
      "|nm0005037| tt8655736|        James Hyde|     actor|\n",
      "|nm0005406| tt0187078| William Lee Scott|     actor|\n",
      "|nm0005406| tt0289879| William Lee Scott|     actor|\n",
      "|nm0005406| tt0213149| William Lee Scott|     actor|\n",
      "|nm0005406| tt0132477| William Lee Scott|     actor|\n",
      "|nm0006412| tt0126494|      Ashley Moore|     actor|\n",
      "|nm0006412| tt0084513|      Ashley Moore|     actor|\n",
      "|nm0006412| tt0190760|      Ashley Moore|     actor|\n",
      "|nm0006412| tt0156458|      Ashley Moore|     actor|\n",
      "+---------+----------+------------------+----------+\n",
      "only showing top 20 rows\n",
      "\n"
     ]
    }
   ],
   "source": [
    "Actor_data_final.show()"
   ]
  },
  {
   "cell_type": "code",
   "execution_count": 136,
   "metadata": {},
   "outputs": [
    {
     "name": "stdout",
     "output_type": "stream",
     "text": [
      "+---------+----------+------------------+-----------------+\n",
      "| Actor_ID|  Title_ID|       primaryName|primaryProfession|\n",
      "+---------+----------+------------------+-----------------+\n",
      "|nm0001956| tt0140058|John Wayne Bobbitt|            actor|\n",
      "|nm0001956| tt0122561|John Wayne Bobbitt|            actor|\n",
      "|nm0001956|tt13634472|John Wayne Bobbitt|            actor|\n",
      "|nm0001956| tt0123610|John Wayne Bobbitt|            actor|\n",
      "|nm0004259| tt0239450|    André Kaminski|            actor|\n",
      "|nm0004259| tt2133298|    André Kaminski|            actor|\n",
      "|nm0004259| tt0366767|    André Kaminski|            actor|\n",
      "|nm0004259| tt0806910|    André Kaminski|            actor|\n",
      "|nm0005037| tt0192917|        James Hyde|            actor|\n",
      "|nm0005037| tt9730822|        James Hyde|            actor|\n",
      "|nm0005037|tt10953370|        James Hyde|            actor|\n",
      "|nm0005037| tt8655736|        James Hyde|            actor|\n",
      "|nm0005406| tt0187078| William Lee Scott|            actor|\n",
      "|nm0005406| tt0289879| William Lee Scott|            actor|\n",
      "|nm0005406| tt0213149| William Lee Scott|            actor|\n",
      "|nm0005406| tt0132477| William Lee Scott|            actor|\n",
      "|nm0006412| tt0126494|      Ashley Moore|            actor|\n",
      "|nm0006412| tt0084513|      Ashley Moore|            actor|\n",
      "|nm0006412| tt0190760|      Ashley Moore|            actor|\n",
      "|nm0006412| tt0156458|      Ashley Moore|            actor|\n",
      "+---------+----------+------------------+-----------------+\n",
      "only showing top 20 rows\n",
      "\n"
     ]
    }
   ],
   "source": [
    "###############Join Actor & Basic data####################\n",
    "_Actor_ = sc.sql(\"select a.Actor_ID, a.Title_ID, b.primaryName,b.primaryProfession from Actor_data a inner join Basic_data b on a.Actor_ID=b.nconst \")\n",
    "_Actor_.show()"
   ]
  },
  {
   "cell_type": "code",
   "execution_count": 137,
   "metadata": {},
   "outputs": [],
   "source": [
    "################Create temporary table for Actor#############\n",
    "create_temp_table(_Actor_,\"_Actor_\")"
   ]
  },
  {
   "cell_type": "code",
   "execution_count": 139,
   "metadata": {},
   "outputs": [
    {
     "name": "stdout",
     "output_type": "stream",
     "text": [
      "+---------+---------+--------------------+-----------------+---------+--------------------+\n",
      "| Actor_ID| Title_ID|         primaryName|primaryProfession|titleType|              genres|\n",
      "+---------+---------+--------------------+-----------------+---------+--------------------+\n",
      "|nm1539007|tt0000420|   Stanley Faithfull|            actor|    short|Family,Fantasy,Short|\n",
      "|nm1012587|tt0000420|               Blair|            actor|    short|Family,Fantasy,Short|\n",
      "|nm0163559|tt0001452|      Verner Clarges|            actor|    short|       Romance,Short|\n",
      "|nm0649211|tt0002387|      Frank Opperman|            actor|    short|        Comedy,Short|\n",
      "|nm0487007|tt0002387|     J. Jiquel Lanoe|            actor|    short|        Comedy,Short|\n",
      "|nm0243648|tt0002588|          Léon Durac|            actor|    movie|      Crime,Thriller|\n",
      "|nm0057491|tt0002594|   Mervyn Barrington|            actor|    movie|                  \\N|\n",
      "|nm0377987|tt0002594|        Robert Henry|            actor|    movie|                  \\N|\n",
      "|nm0680399|tt0002594|      Frank Phillips|            actor|    movie|                  \\N|\n",
      "|nm0912686|tt0002594|         Walter Warr|            actor|    movie|                  \\N|\n",
      "|nm0661995|tt0002594|        George Parke|            actor|    movie|                  \\N|\n",
      "|nm0930882|tt0002594|    Jeffrey Williams|            actor|    movie|                  \\N|\n",
      "|nm0033732|tt0002594|           T. Archer|            actor|    movie|                  \\N|\n",
      "|nm1160080|tt0002667|       C. Rhys Pryce|            actor|    short|     Adventure,Short|\n",
      "|nm0295961|tt0002830|        Victor Frith|            actor|    short|        Action,Short|\n",
      "|nm0888419|tt0002830|             Nip Van|            actor|    short|        Action,Short|\n",
      "|nm0753349|tt0002922|          J.H. Ryley|            actor|    movie|               Drama|\n",
      "|nm1265115|tt0002922|      Richard Andean|            actor|    movie|               Drama|\n",
      "|nm0285425|tt0002922|Johnston Forbes-R...|            actor|    movie|               Drama|\n",
      "|nm0072813|tt0002922|     Grendon Bentley|            actor|    movie|               Drama|\n",
      "+---------+---------+--------------------+-----------------+---------+--------------------+\n",
      "only showing top 20 rows\n",
      "\n"
     ]
    }
   ],
   "source": [
    "########################Join Actor data with title_data############################\n",
    "_Actor_mov_tv_ = sc.sql(\"select a.Actor_ID, a.Title_ID, a.primaryName,a.primaryProfession, b.titleType, b.genres from _Actor_ a left join Title_data b on a.Title_ID=b.tconst\")\n",
    "_Actor_mov_tv_.show()"
   ]
  },
  {
   "cell_type": "code",
   "execution_count": 140,
   "metadata": {},
   "outputs": [],
   "source": [
    "_Actor_mov_tv_.count()\n",
    "create_temp_table(_Actor_mov_tv_,\"_Actor_mov_tv_\")\n",
    "_Actor_mov_tv_filter=sc.sql(\"select Actor_ID, genres from _Actor_mov_tv_\")"
   ]
  },
  {
   "cell_type": "code",
   "execution_count": 141,
   "metadata": {},
   "outputs": [
    {
     "data": {
      "text/plain": [
       "3082313"
      ]
     },
     "execution_count": 141,
     "metadata": {},
     "output_type": "execute_result"
    }
   ],
   "source": [
    "_Actor_mov_tv_filter.count()"
   ]
  },
  {
   "cell_type": "code",
   "execution_count": 145,
   "metadata": {},
   "outputs": [
    {
     "data": {
      "text/html": [
       "<div>\n",
       "<style scoped>\n",
       "    .dataframe tbody tr th:only-of-type {\n",
       "        vertical-align: middle;\n",
       "    }\n",
       "\n",
       "    .dataframe tbody tr th {\n",
       "        vertical-align: top;\n",
       "    }\n",
       "\n",
       "    .dataframe thead th {\n",
       "        text-align: right;\n",
       "    }\n",
       "</style>\n",
       "<table border=\"1\" class=\"dataframe\">\n",
       "  <thead>\n",
       "    <tr style=\"text-align: right;\">\n",
       "      <th></th>\n",
       "      <th>Actor_ID</th>\n",
       "      <th>genres</th>\n",
       "    </tr>\n",
       "  </thead>\n",
       "  <tbody>\n",
       "    <tr>\n",
       "      <th>0</th>\n",
       "      <td>nm1539007</td>\n",
       "      <td>Family,Fantasy,Short</td>\n",
       "    </tr>\n",
       "    <tr>\n",
       "      <th>1</th>\n",
       "      <td>nm1012587</td>\n",
       "      <td>Family,Fantasy,Short</td>\n",
       "    </tr>\n",
       "    <tr>\n",
       "      <th>2</th>\n",
       "      <td>nm0163559</td>\n",
       "      <td>Romance,Short</td>\n",
       "    </tr>\n",
       "    <tr>\n",
       "      <th>3</th>\n",
       "      <td>nm0649211</td>\n",
       "      <td>Comedy,Short</td>\n",
       "    </tr>\n",
       "    <tr>\n",
       "      <th>4</th>\n",
       "      <td>nm0487007</td>\n",
       "      <td>Comedy,Short</td>\n",
       "    </tr>\n",
       "    <tr>\n",
       "      <th>...</th>\n",
       "      <td>...</td>\n",
       "      <td>...</td>\n",
       "    </tr>\n",
       "    <tr>\n",
       "      <th>3082308</th>\n",
       "      <td>nm11374377</td>\n",
       "      <td>Action,Adventure</td>\n",
       "    </tr>\n",
       "    <tr>\n",
       "      <th>3082309</th>\n",
       "      <td>nm9830396</td>\n",
       "      <td>Short</td>\n",
       "    </tr>\n",
       "    <tr>\n",
       "      <th>3082310</th>\n",
       "      <td>nm9256787</td>\n",
       "      <td>Drama,Short</td>\n",
       "    </tr>\n",
       "    <tr>\n",
       "      <th>3082311</th>\n",
       "      <td>nm8659119</td>\n",
       "      <td>Comedy,Short</td>\n",
       "    </tr>\n",
       "    <tr>\n",
       "      <th>3082312</th>\n",
       "      <td>nm2914661</td>\n",
       "      <td>Drama,Short</td>\n",
       "    </tr>\n",
       "  </tbody>\n",
       "</table>\n",
       "<p>2811814 rows × 2 columns</p>\n",
       "</div>"
      ],
      "text/plain": [
       "           Actor_ID                genres\n",
       "0         nm1539007  Family,Fantasy,Short\n",
       "1         nm1012587  Family,Fantasy,Short\n",
       "2         nm0163559         Romance,Short\n",
       "3         nm0649211          Comedy,Short\n",
       "4         nm0487007          Comedy,Short\n",
       "...             ...                   ...\n",
       "3082308  nm11374377      Action,Adventure\n",
       "3082309   nm9830396                 Short\n",
       "3082310   nm9256787           Drama,Short\n",
       "3082311   nm8659119          Comedy,Short\n",
       "3082312   nm2914661           Drama,Short\n",
       "\n",
       "[2811814 rows x 2 columns]"
      ]
     },
     "execution_count": 145,
     "metadata": {},
     "output_type": "execute_result"
    }
   ],
   "source": [
    "#drop na values.\n",
    "_Actor_mov_tv_filter_check=pd.read_csv(filepath_out_data+'/_Actor_mov_tv_filter/part-00000-bd9e5662-7a2f-4a0f-9462-aa275796fc0f-c000.csv\",sep=\"|\",low_memory=False, na_values=[\"\\\\N\",\"nan\"])\n",
    "_Actor_mov_tv_filter_check.genres.dropna()\n",
    "_Actor_mov_tv_filter_check.dropna(subset = [\"genres\"], inplace=True)\n",
    "_Actor_mov_tv_filter_check"
   ]
  },
  {
   "cell_type": "code",
   "execution_count": 143,
   "metadata": {},
   "outputs": [],
   "source": [
    "#define schema\n",
    "from pyspark.sql.types import *\n",
    "schema = StructType(\n",
    "   [StructField('Actor_ID', StringType(), True),\n",
    "    StructField('genres', StringType(), True)\n",
    "   ]\n",
    "  )"
   ]
  },
  {
   "cell_type": "code",
   "execution_count": 146,
   "metadata": {},
   "outputs": [
    {
     "name": "stderr",
     "output_type": "stream",
     "text": [
      "C:\\spark\\spark-2.4.5-bin-hadoop2.7\\python\\pyspark\\sql\\session.py:714: UserWarning: createDataFrame attempted Arrow optimization because 'spark.sql.execution.arrow.enabled' is set to true; however, failed by the reason below:\n",
      "  An error occurred while calling z:org.apache.spark.sql.api.python.PythonSQLUtils.readArrowStreamFromFile.\n",
      ": java.lang.IllegalArgumentException\r\n",
      "\tat java.nio.ByteBuffer.allocate(ByteBuffer.java:334)\r\n",
      "\tat org.apache.arrow.vector.ipc.message.MessageSerializer.readMessage(MessageSerializer.java:543)\r\n",
      "\tat org.apache.spark.sql.execution.arrow.ArrowConverters$$anon$3.readNextBatch(ArrowConverters.scala:243)\r\n",
      "\tat org.apache.spark.sql.execution.arrow.ArrowConverters$$anon$3.<init>(ArrowConverters.scala:229)\r\n",
      "\tat org.apache.spark.sql.execution.arrow.ArrowConverters$.getBatchesFromStream(ArrowConverters.scala:228)\r\n",
      "\tat org.apache.spark.sql.execution.arrow.ArrowConverters$$anonfun$readArrowStreamFromFile$2.apply(ArrowConverters.scala:216)\r\n",
      "\tat org.apache.spark.sql.execution.arrow.ArrowConverters$$anonfun$readArrowStreamFromFile$2.apply(ArrowConverters.scala:214)\r\n",
      "\tat org.apache.spark.util.Utils$.tryWithResource(Utils.scala:2543)\r\n",
      "\tat org.apache.spark.sql.execution.arrow.ArrowConverters$.readArrowStreamFromFile(ArrowConverters.scala:214)\r\n",
      "\tat org.apache.spark.sql.api.python.PythonSQLUtils$.readArrowStreamFromFile(PythonSQLUtils.scala:46)\r\n",
      "\tat org.apache.spark.sql.api.python.PythonSQLUtils.readArrowStreamFromFile(PythonSQLUtils.scala)\r\n",
      "\tat sun.reflect.NativeMethodAccessorImpl.invoke0(Native Method)\r\n",
      "\tat sun.reflect.NativeMethodAccessorImpl.invoke(NativeMethodAccessorImpl.java:62)\r\n",
      "\tat sun.reflect.DelegatingMethodAccessorImpl.invoke(DelegatingMethodAccessorImpl.java:43)\r\n",
      "\tat java.lang.reflect.Method.invoke(Method.java:498)\r\n",
      "\tat py4j.reflection.MethodInvoker.invoke(MethodInvoker.java:244)\r\n",
      "\tat py4j.reflection.ReflectionEngine.invoke(ReflectionEngine.java:357)\r\n",
      "\tat py4j.Gateway.invoke(Gateway.java:282)\r\n",
      "\tat py4j.commands.AbstractCommand.invokeMethod(AbstractCommand.java:132)\r\n",
      "\tat py4j.commands.CallCommand.execute(CallCommand.java:79)\r\n",
      "\tat py4j.GatewayConnection.run(GatewayConnection.java:238)\r\n",
      "\tat java.lang.Thread.run(Thread.java:748)\r\n",
      "\n",
      "Attempting non-optimization as 'spark.sql.execution.arrow.fallback.enabled' is set to true.\n",
      "  warnings.warn(msg)\n"
     ]
    },
    {
     "name": "stdout",
     "output_type": "stream",
     "text": [
      "+---------+--------------------+\n",
      "| Actor_ID|              genres|\n",
      "+---------+--------------------+\n",
      "|nm1539007|Family,Fantasy,Short|\n",
      "|nm1012587|Family,Fantasy,Short|\n",
      "|nm0163559|       Romance,Short|\n",
      "|nm0649211|        Comedy,Short|\n",
      "|nm0487007|        Comedy,Short|\n",
      "|nm0243648|      Crime,Thriller|\n",
      "|nm1160080|     Adventure,Short|\n",
      "|nm0295961|        Action,Short|\n",
      "|nm0888419|        Action,Short|\n",
      "|nm0753349|               Drama|\n",
      "|nm1265115|               Drama|\n",
      "|nm0285425|               Drama|\n",
      "|nm0072813|               Drama|\n",
      "|nm1266919|               Drama|\n",
      "|nm0371026|               Drama|\n",
      "|nm0177548|               Drama|\n",
      "|nm0727615|               Drama|\n",
      "|nm5872743|               Drama|\n",
      "|nm5872742|               Drama|\n",
      "|nm0011905|               Drama|\n",
      "+---------+--------------------+\n",
      "only showing top 20 rows\n",
      "\n"
     ]
    }
   ],
   "source": [
    "#convert pandas dataframe to spark dataframe\n",
    "_Actor_mov_tv_filter_sp=sc.createDataFrame(_Actor_mov_tv_filter_check,schema=schema) \n",
    "_Actor_mov_tv_filter_sp.show()"
   ]
  },
  {
   "cell_type": "code",
   "execution_count": 88,
   "metadata": {},
   "outputs": [],
   "source": [
    "#push data to csv\n",
    "_Actor_mov_tv_filter_check.to_csv(filepath_out_data+'/_Actor_mov_tv_out.csv', index=None, sep=',', mode='a')"
   ]
  },
  {
   "cell_type": "code",
   "execution_count": 148,
   "metadata": {},
   "outputs": [
    {
     "data": {
      "text/html": [
       "<div>\n",
       "<style scoped>\n",
       "    .dataframe tbody tr th:only-of-type {\n",
       "        vertical-align: middle;\n",
       "    }\n",
       "\n",
       "    .dataframe tbody tr th {\n",
       "        vertical-align: top;\n",
       "    }\n",
       "\n",
       "    .dataframe thead th {\n",
       "        text-align: right;\n",
       "    }\n",
       "</style>\n",
       "<table border=\"1\" class=\"dataframe\">\n",
       "  <thead>\n",
       "    <tr style=\"text-align: right;\">\n",
       "      <th></th>\n",
       "      <th>Actor_ID</th>\n",
       "      <th>genres</th>\n",
       "    </tr>\n",
       "  </thead>\n",
       "  <tbody>\n",
       "    <tr>\n",
       "      <th>0</th>\n",
       "      <td>nm1539007</td>\n",
       "      <td>Family</td>\n",
       "    </tr>\n",
       "    <tr>\n",
       "      <th>1</th>\n",
       "      <td>nm1539007</td>\n",
       "      <td>Fantasy</td>\n",
       "    </tr>\n",
       "    <tr>\n",
       "      <th>2</th>\n",
       "      <td>nm1539007</td>\n",
       "      <td>Short</td>\n",
       "    </tr>\n",
       "    <tr>\n",
       "      <th>3</th>\n",
       "      <td>nm1012587</td>\n",
       "      <td>Family</td>\n",
       "    </tr>\n",
       "    <tr>\n",
       "      <th>4</th>\n",
       "      <td>nm1012587</td>\n",
       "      <td>Fantasy</td>\n",
       "    </tr>\n",
       "    <tr>\n",
       "      <th>...</th>\n",
       "      <td>...</td>\n",
       "      <td>...</td>\n",
       "    </tr>\n",
       "    <tr>\n",
       "      <th>5372140</th>\n",
       "      <td>nm9256787</td>\n",
       "      <td>Short</td>\n",
       "    </tr>\n",
       "    <tr>\n",
       "      <th>5372141</th>\n",
       "      <td>nm8659119</td>\n",
       "      <td>Comedy</td>\n",
       "    </tr>\n",
       "    <tr>\n",
       "      <th>5372142</th>\n",
       "      <td>nm8659119</td>\n",
       "      <td>Short</td>\n",
       "    </tr>\n",
       "    <tr>\n",
       "      <th>5372143</th>\n",
       "      <td>nm2914661</td>\n",
       "      <td>Drama</td>\n",
       "    </tr>\n",
       "    <tr>\n",
       "      <th>5372144</th>\n",
       "      <td>nm2914661</td>\n",
       "      <td>Short</td>\n",
       "    </tr>\n",
       "  </tbody>\n",
       "</table>\n",
       "<p>5372145 rows × 2 columns</p>\n",
       "</div>"
      ],
      "text/plain": [
       "          Actor_ID   genres\n",
       "0        nm1539007   Family\n",
       "1        nm1539007  Fantasy\n",
       "2        nm1539007    Short\n",
       "3        nm1012587   Family\n",
       "4        nm1012587  Fantasy\n",
       "...            ...      ...\n",
       "5372140  nm9256787    Short\n",
       "5372141  nm8659119   Comedy\n",
       "5372142  nm8659119    Short\n",
       "5372143  nm2914661    Drama\n",
       "5372144  nm2914661    Short\n",
       "\n",
       "[5372145 rows x 2 columns]"
      ]
     },
     "execution_count": 148,
     "metadata": {},
     "output_type": "execute_result"
    }
   ],
   "source": [
    "#Convert multiple values to single row data for genres\n",
    "_Actor_mov_tv_filter_=pd.read_csv(filepath_out_data+'/_Actor_mov_tv_out.csv',sep=\",\")\n",
    "_Actor_mov_tv_filter_t = pd.DataFrame(_Actor_mov_tv_filter_.genres.str.split(',').tolist(), index=_Actor_mov_tv_filter_.Actor_ID).stack()\n",
    "_Actor_mov_tv_filter_c = _Actor_mov_tv_filter_t.reset_index([0, 'Actor_ID'])\n",
    "_Actor_mov_tv_filter_c.columns =['Actor_ID', 'genres']\n",
    "_Actor_mov_tv_filter_c"
   ]
  },
  {
   "cell_type": "code",
   "execution_count": 149,
   "metadata": {},
   "outputs": [
    {
     "name": "stderr",
     "output_type": "stream",
     "text": [
      "C:\\spark\\spark-2.4.5-bin-hadoop2.7\\python\\pyspark\\sql\\session.py:714: UserWarning: createDataFrame attempted Arrow optimization because 'spark.sql.execution.arrow.enabled' is set to true; however, failed by the reason below:\n",
      "  An error occurred while calling z:org.apache.spark.sql.api.python.PythonSQLUtils.readArrowStreamFromFile.\n",
      ": java.lang.IllegalArgumentException\r\n",
      "\tat java.nio.ByteBuffer.allocate(ByteBuffer.java:334)\r\n",
      "\tat org.apache.arrow.vector.ipc.message.MessageSerializer.readMessage(MessageSerializer.java:543)\r\n",
      "\tat org.apache.spark.sql.execution.arrow.ArrowConverters$$anon$3.readNextBatch(ArrowConverters.scala:243)\r\n",
      "\tat org.apache.spark.sql.execution.arrow.ArrowConverters$$anon$3.<init>(ArrowConverters.scala:229)\r\n",
      "\tat org.apache.spark.sql.execution.arrow.ArrowConverters$.getBatchesFromStream(ArrowConverters.scala:228)\r\n",
      "\tat org.apache.spark.sql.execution.arrow.ArrowConverters$$anonfun$readArrowStreamFromFile$2.apply(ArrowConverters.scala:216)\r\n",
      "\tat org.apache.spark.sql.execution.arrow.ArrowConverters$$anonfun$readArrowStreamFromFile$2.apply(ArrowConverters.scala:214)\r\n",
      "\tat org.apache.spark.util.Utils$.tryWithResource(Utils.scala:2543)\r\n",
      "\tat org.apache.spark.sql.execution.arrow.ArrowConverters$.readArrowStreamFromFile(ArrowConverters.scala:214)\r\n",
      "\tat org.apache.spark.sql.api.python.PythonSQLUtils$.readArrowStreamFromFile(PythonSQLUtils.scala:46)\r\n",
      "\tat org.apache.spark.sql.api.python.PythonSQLUtils.readArrowStreamFromFile(PythonSQLUtils.scala)\r\n",
      "\tat sun.reflect.NativeMethodAccessorImpl.invoke0(Native Method)\r\n",
      "\tat sun.reflect.NativeMethodAccessorImpl.invoke(NativeMethodAccessorImpl.java:62)\r\n",
      "\tat sun.reflect.DelegatingMethodAccessorImpl.invoke(DelegatingMethodAccessorImpl.java:43)\r\n",
      "\tat java.lang.reflect.Method.invoke(Method.java:498)\r\n",
      "\tat py4j.reflection.MethodInvoker.invoke(MethodInvoker.java:244)\r\n",
      "\tat py4j.reflection.ReflectionEngine.invoke(ReflectionEngine.java:357)\r\n",
      "\tat py4j.Gateway.invoke(Gateway.java:282)\r\n",
      "\tat py4j.commands.AbstractCommand.invokeMethod(AbstractCommand.java:132)\r\n",
      "\tat py4j.commands.CallCommand.execute(CallCommand.java:79)\r\n",
      "\tat py4j.GatewayConnection.run(GatewayConnection.java:238)\r\n",
      "\tat java.lang.Thread.run(Thread.java:748)\r\n",
      "\n",
      "Attempting non-optimization as 'spark.sql.execution.arrow.fallback.enabled' is set to true.\n",
      "  warnings.warn(msg)\n"
     ]
    },
    {
     "name": "stdout",
     "output_type": "stream",
     "text": [
      "+---------+---------+\n",
      "| Actor_ID|   genres|\n",
      "+---------+---------+\n",
      "|nm1539007|   Family|\n",
      "|nm1539007|  Fantasy|\n",
      "|nm1539007|    Short|\n",
      "|nm1012587|   Family|\n",
      "|nm1012587|  Fantasy|\n",
      "|nm1012587|    Short|\n",
      "|nm0163559|  Romance|\n",
      "|nm0163559|    Short|\n",
      "|nm0649211|   Comedy|\n",
      "|nm0649211|    Short|\n",
      "|nm0487007|   Comedy|\n",
      "|nm0487007|    Short|\n",
      "|nm0243648|    Crime|\n",
      "|nm0243648| Thriller|\n",
      "|nm1160080|Adventure|\n",
      "|nm1160080|    Short|\n",
      "|nm0295961|   Action|\n",
      "|nm0295961|    Short|\n",
      "|nm0888419|   Action|\n",
      "|nm0888419|    Short|\n",
      "+---------+---------+\n",
      "only showing top 20 rows\n",
      "\n"
     ]
    }
   ],
   "source": [
    "####Converting to spark dataframe\n",
    "_Actor_mov_tv_filter_sp=sc.createDataFrame(_Actor_mov_tv_filter_c,schema=schema) \n",
    "_Actor_mov_tv_filter_sp.show()"
   ]
  },
  {
   "cell_type": "code",
   "execution_count": 150,
   "metadata": {},
   "outputs": [],
   "source": [
    "create_temp_table(_Actor_mov_tv_filter_sp,\"_Actor_mov_tv_filter_sp\")"
   ]
  },
  {
   "cell_type": "code",
   "execution_count": 151,
   "metadata": {},
   "outputs": [
    {
     "name": "stdout",
     "output_type": "stream",
     "text": [
      "+---------+----------+------------------+-----------------+---------+---------+\n",
      "| Actor_ID|  Title_ID|       primaryName|primaryProfession|titleType|   Genres|\n",
      "+---------+----------+------------------+-----------------+---------+---------+\n",
      "|nm0001956| tt0122561|John Wayne Bobbitt|            actor|    video|    Adult|\n",
      "|nm0001956|tt13634472|John Wayne Bobbitt|            actor|    video|    Adult|\n",
      "|nm0001956| tt0123610|John Wayne Bobbitt|            actor|    video|    Adult|\n",
      "|nm0001956| tt0140058|John Wayne Bobbitt|            actor|    video|    Adult|\n",
      "|nm0001956| tt0122561|John Wayne Bobbitt|            actor|    video|Biography|\n",
      "|nm0001956|tt13634472|John Wayne Bobbitt|            actor|    video|Biography|\n",
      "|nm0001956| tt0123610|John Wayne Bobbitt|            actor|    video|Biography|\n",
      "|nm0001956| tt0140058|John Wayne Bobbitt|            actor|    video|Biography|\n",
      "|nm0001956| tt0122561|John Wayne Bobbitt|            actor|    video|   Comedy|\n",
      "|nm0001956|tt13634472|John Wayne Bobbitt|            actor|    video|   Comedy|\n",
      "|nm0001956| tt0123610|John Wayne Bobbitt|            actor|    video|   Comedy|\n",
      "|nm0001956| tt0140058|John Wayne Bobbitt|            actor|    video|   Comedy|\n",
      "|nm0001956| tt0122561|John Wayne Bobbitt|            actor|    video|    Short|\n",
      "|nm0001956|tt13634472|John Wayne Bobbitt|            actor|    video|    Short|\n",
      "|nm0001956| tt0123610|John Wayne Bobbitt|            actor|    video|    Short|\n",
      "|nm0001956| tt0140058|John Wayne Bobbitt|            actor|    video|    Short|\n",
      "|nm0001956| tt0122561|John Wayne Bobbitt|            actor|    video|    Sport|\n",
      "|nm0001956|tt13634472|John Wayne Bobbitt|            actor|    video|    Sport|\n",
      "|nm0001956| tt0123610|John Wayne Bobbitt|            actor|    video|    Sport|\n",
      "|nm0001956| tt0140058|John Wayne Bobbitt|            actor|    video|    Sport|\n",
      "+---------+----------+------------------+-----------------+---------+---------+\n",
      "only showing top 20 rows\n",
      "\n"
     ]
    }
   ],
   "source": [
    "###########Join transformed data with main actor_genre table############\n",
    "_Actor_mov_tv_filter_final = sc.sql(\"select b.Actor_ID, b.Title_ID, b.primaryName,b.primaryProfession, b.titleType, a.Genres from _Actor_mov_tv_filter_sp a inner join _Actor_mov_tv_ b on a.Actor_ID=b.Actor_ID\")\n",
    "_Actor_mov_tv_filter_final.show()"
   ]
  },
  {
   "cell_type": "code",
   "execution_count": 152,
   "metadata": {},
   "outputs": [
    {
     "data": {
      "text/plain": [
       "12661409"
      ]
     },
     "execution_count": 152,
     "metadata": {},
     "output_type": "execute_result"
    }
   ],
   "source": [
    "_Actor_mov_tv_filter_final.count()"
   ]
  },
  {
   "cell_type": "code",
   "execution_count": 111,
   "metadata": {},
   "outputs": [],
   "source": [
    "_Actor_mov_tv_filter_final.coalesce(1).write.format('csv').option('header',True).mode('append').option('sep','|').save(filepath_out_data+'/_Actor_mov_tv_filter_final')"
   ]
  },
  {
   "cell_type": "code",
   "execution_count": 153,
   "metadata": {},
   "outputs": [
    {
     "data": {
      "text/plain": [
       "<matplotlib.axes._subplots.AxesSubplot at 0x23d383d9108>"
      ]
     },
     "execution_count": 153,
     "metadata": {},
     "output_type": "execute_result"
    },
    {
     "data": {
      "image/png": "[encoded data removed]",
      "text/plain": [
       "<Figure size 432x432 with 1 Axes>"
      ]
     },
     "metadata": {},
     "output_type": "display_data"
    }
   ],
   "source": [
    "############Reading in dataframe###############\n",
    "df_title_basics=pd.read_csv(filepath_out_data+\"/_Actor_mov_tv_filter_final/part-00000-55d556f3-aa0f-4b28-bee5-009460d57285-c000.csv\",sep=\"|\",low_memory=False, na_values=[\"\\\\N\",\"nan\"])\n",
    "df_title_basics.Genres.value_counts().plot.pie(autopct=\"%.0f%%\",figsize=(6,6),pctdistance=0.8,\n",
    "                                                 wedgeprops=dict(width=0.4))\n"
   ]
  },
  {
   "cell_type": "code",
   "execution_count": 154,
   "metadata": {},
   "outputs": [
    {
     "data": {
      "text/plain": [
       "Drama          3220789\n",
       "Comedy         1765647\n",
       "Short          1032252\n",
       "Action          984218\n",
       "Crime           841292\n",
       "Romance         682775\n",
       "Adventure       518617\n",
       "Thriller        514058\n",
       "Horror          370923\n",
       "Mystery         350529\n",
       "Family          277518\n",
       "Fantasy         253631\n",
       "Sci-Fi          248915\n",
       "Music           217961\n",
       "History         189997\n",
       "Adult           174001\n",
       "Sport           157021\n",
       "Biography       155961\n",
       "Documentary     144524\n",
       "Musical         136512\n",
       "War             114698\n",
       "Animation        99636\n",
       "Western          49346\n",
       "Talk-Show        48977\n",
       "Reality-TV       46574\n",
       "News             30099\n",
       "Game-Show        28925\n",
       "Film-Noir         6013\n",
       "Name: Genres, dtype: int64"
      ]
     },
     "execution_count": 154,
     "metadata": {},
     "output_type": "execute_result"
    }
   ],
   "source": [
    "##################Value counts##################\n",
    "df_title_basics.Genres.value_counts()"
   ]
  },
  {
   "cell_type": "code",
   "execution_count": 156,
   "metadata": {},
   "outputs": [
    {
     "name": "stdout",
     "output_type": "stream",
     "text": [
      "+---------+----------+------------------+-----------------+---------+---------+\n",
      "| Actor_ID|  Title_ID|       primaryName|primaryProfession|titleType|   Genres|\n",
      "+---------+----------+------------------+-----------------+---------+---------+\n",
      "|nm0001956| tt0122561|John Wayne Bobbitt|            actor|    video|    Adult|\n",
      "|nm0001956|tt13634472|John Wayne Bobbitt|            actor|    video|    Adult|\n",
      "|nm0001956| tt0123610|John Wayne Bobbitt|            actor|    video|    Adult|\n",
      "|nm0001956| tt0140058|John Wayne Bobbitt|            actor|    video|    Adult|\n",
      "|nm0001956| tt0122561|John Wayne Bobbitt|            actor|    video|Biography|\n",
      "|nm0001956|tt13634472|John Wayne Bobbitt|            actor|    video|Biography|\n",
      "|nm0001956| tt0123610|John Wayne Bobbitt|            actor|    video|Biography|\n",
      "|nm0001956| tt0140058|John Wayne Bobbitt|            actor|    video|Biography|\n",
      "|nm0001956| tt0122561|John Wayne Bobbitt|            actor|    video|   Comedy|\n",
      "|nm0001956|tt13634472|John Wayne Bobbitt|            actor|    video|   Comedy|\n",
      "|nm0001956| tt0123610|John Wayne Bobbitt|            actor|    video|   Comedy|\n",
      "|nm0001956| tt0140058|John Wayne Bobbitt|            actor|    video|   Comedy|\n",
      "|nm0001956| tt0122561|John Wayne Bobbitt|            actor|    video|    Short|\n",
      "|nm0001956|tt13634472|John Wayne Bobbitt|            actor|    video|    Short|\n",
      "|nm0001956| tt0123610|John Wayne Bobbitt|            actor|    video|    Short|\n",
      "|nm0001956| tt0140058|John Wayne Bobbitt|            actor|    video|    Short|\n",
      "|nm0001956| tt0122561|John Wayne Bobbitt|            actor|    video|    Sport|\n",
      "|nm0001956|tt13634472|John Wayne Bobbitt|            actor|    video|    Sport|\n",
      "|nm0001956| tt0123610|John Wayne Bobbitt|            actor|    video|    Sport|\n",
      "|nm0001956| tt0140058|John Wayne Bobbitt|            actor|    video|    Sport|\n",
      "+---------+----------+------------------+-----------------+---------+---------+\n",
      "only showing top 20 rows\n",
      "\n"
     ]
    }
   ],
   "source": [
    "#df_check=sc.read.csv(\"C:/Users/91993/Documents/Movies/out/_Actor_mov_tv_filter_final/part-00000-55d556f3-aa0f-4b28-bee5-009460d57285-c000.csv\",sep=\"|\",header= True,inferSchema=True)\n",
    "_Actor_mov_tv_filter_final.show()"
   ]
  },
  {
   "cell_type": "code",
   "execution_count": 157,
   "metadata": {},
   "outputs": [],
   "source": [
    "create_temp_table(_Actor_mov_tv_filter_final,\"_Actor_mov_tv_filter_final\")"
   ]
  },
  {
   "cell_type": "code",
   "execution_count": 165,
   "metadata": {},
   "outputs": [
    {
     "name": "stdout",
     "output_type": "stream",
     "text": [
      "+-----------+-------------+\n",
      "|primaryName|count(Genres)|\n",
      "+-----------+-------------+\n",
      "| Omar Sylla|            1|\n",
      "+-----------+-------------+\n",
      "\n"
     ]
    }
   ],
   "source": [
    "########################Genre count for 3 actors####################\n",
    "check_query=sc.sql(\"select primaryName,count(Genres) as Genre_count from _Actor_mov_tv_filter_final where primaryName like '%Frances%McDormand%' or primaryName like '%Omar%Sy%' or primaryName like '%Saoirse%Ronan%' group by primaryName,Genres order by primaryName,Genres desc\")\n",
    "check_query.show()"
   ]
  },
  {
   "cell_type": "code",
   "execution_count": 158,
   "metadata": {},
   "outputs": [
    {
     "name": "stdout",
     "output_type": "stream",
     "text": [
      "+---------+---------+-----------+-----------------+---------+------+\n",
      "| Actor_ID| Title_ID|primaryName|primaryProfession|titleType|Genres|\n",
      "+---------+---------+-----------+-----------------+---------+------+\n",
      "|nm4826082|tt2151729| Omar Sylla|            actor|    short| Short|\n",
      "+---------+---------+-----------+-----------------+---------+------+\n",
      "\n"
     ]
    }
   ],
   "source": [
    "###################Test Case 1: Checking the actor's names in the final dataset###############\n",
    "check_query1=sc.sql(\"select * from _Actor_mov_tv_filter_final where primaryName like '%Frances%McDormand%' or primaryName like '%Omar%Sy%' or primaryName like '%Saoirse%Ronan%'\")\n",
    "check_query1.show()"
   ]
  },
  {
   "cell_type": "code",
   "execution_count": 162,
   "metadata": {},
   "outputs": [
    {
     "name": "stdout",
     "output_type": "stream",
     "text": [
      "+---------+---------+------------+----------+\n",
      "| Actor_ID| Title_ID|        Name|Profession|\n",
      "+---------+---------+------------+----------+\n",
      "|nm4826082|tt2151729|  Omar Sylla|     actor|\n",
      "|nm8849071|tt6648970|Omar Syariff|     actor|\n",
      "+---------+---------+------------+----------+\n",
      "\n"
     ]
    }
   ],
   "source": [
    "###################Test Case 2: Checking the actor's names in the Actor_prepared dataset for Question 2###############\n",
    "check_query2=sc.sql(\"select * from Actor_data_final where Name like '%Frances%McDormand%' or Name like '%Omar%Sy%' or Name like '%Saoirse%Ronan%'\")\n",
    "check_query2.show()"
   ]
  },
  {
   "cell_type": "code",
   "execution_count": 164,
   "metadata": {},
   "outputs": [
    {
     "name": "stdout",
     "output_type": "stream",
     "text": [
      "+---------+-----------------+---------+---------+--------------------+--------------------+\n",
      "|   nconst|      primaryName|birthYear|deathYear|   primaryProfession|      knownForTitles|\n",
      "+---------+-----------------+---------+---------+--------------------+--------------------+\n",
      "|nm0000531|Frances McDormand|     1957|       \\N|actress,producer,...|tt1748122,tt50277...|\n",
      "|nm1082477|          Omar Sy|     1978|       \\N|actor,writer,prod...|tt1877832,tt16754...|\n",
      "|nm1519680|    Saoirse Ronan|     1994|       \\N|  actress,soundtrack|tt0993842,tt03805...|\n",
      "|nm4826082|       Omar Sylla|       \\N|       \\N|               actor|           tt2151729|\n",
      "|nm8849071|     Omar Syariff|       \\N|       \\N|               actor|           tt6648970|\n",
      "+---------+-----------------+---------+---------+--------------------+--------------------+\n",
      "\n"
     ]
    }
   ],
   "source": [
    "###################Test Case 3: Checking the actor's names in the origincal dataset###############\n",
    "df_check_query3=sc.sql(\"select * from basic_data where primaryName like '%Frances%McDormand%' or primaryName like '%Omar%Sy%' or primaryName like '%Saoirse%Ronan%'\")\n",
    "df_check_query3.show()"
   ]
  },
  {
   "cell_type": "markdown",
   "metadata": {},
   "source": [
    "## Conclusion : \n",
    "\n",
    "#### As the question suggests to find the number of genre for which an actor has worked. For this scenario, only actor were considered and not the actress. The question was answered by finding \"Omar Sy\" as he is an actor where no data was extracted for \"Frances McDromand\" & \"Saoirse Ronan\" as those are actresses."
   ]
  }
 ],
 "metadata": {
  "hide_input": false,
  "kernelspec": {
   "display_name": "Python 3",
   "language": "python",
   "name": "python3"
  },
  "language_info": {
   "codemirror_mode": {
    "name": "ipython",
    "version": 3
   },
   "file_extension": ".py",
   "mimetype": "text/x-python",
   "name": "python",
   "nbconvert_exporter": "python",
   "pygments_lexer": "ipython3",
   "version": "3.7.7"
  }
 },
 "nbformat": 4,
 "nbformat_minor": 4
}
